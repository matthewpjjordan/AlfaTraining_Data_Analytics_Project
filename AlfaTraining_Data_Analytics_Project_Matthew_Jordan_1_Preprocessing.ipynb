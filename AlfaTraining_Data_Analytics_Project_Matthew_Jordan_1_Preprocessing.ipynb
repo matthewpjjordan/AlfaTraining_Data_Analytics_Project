{
 "cells": [
  {
   "cell_type": "markdown",
   "id": "549e04e2",
   "metadata": {},
   "source": [
    "# Kiva"
   ]
  },
  {
   "cell_type": "markdown",
   "id": "883d3e24",
   "metadata": {},
   "source": [
    "## Situation\n",
    "\n",
    "You work as a Data Scientist at the P-2-P platform https://www.kiva.org/, which was founded a year ago. Now you are looking to expand your business. Your team has split up and each analyst has a subset of the data. Your task is to find out insights for your platform in an exploratory data analysis.\n",
    "\n",
    "Requirements:\n",
    "\n",
    "- complete data analysis\n",
    "- documentation of the work steps\n",
    "- comprehensible and meaningful explanations about approach/decisions\n",
    "- for the evaluation: name 3 different plots (plot functions)\n",
    "- customizing of the plots\n",
    "- Analysis of the plots\n",
    "- Coding\n"
   ]
  },
  {
   "cell_type": "markdown",
   "id": "0c716f42",
   "metadata": {},
   "source": [
    "## CRISP-DM - Business Understanding\n",
    "\n",
    "Your business model is to operate a platform (crowd-investing) where people who have a business idea, but not the money needed, can register and raise money for their project within a given time. \n",
    "\n",
    "On the other hand, you have funders who would like to invest their money in projects and are looking for investments. \n",
    "\n",
    "So as an intermediary, your platform brings borrowers and funders together. \n",
    "\n",
    "Your database is the history of your platform. \n",
    "\n",
    "**Expansion Business Model**\n",
    "\n",
    "All projects are completed projects, i.e. the time to raise money for your project has expired. \n",
    "Your business model is to pay out the collected money even if the target amount is not reached.\n",
    "\n",
    "You earn your money with a commission for each project that lands on your platform. \n",
    "\n",
    "The backer gets an interest for the money loan."
   ]
  },
  {
   "cell_type": "markdown",
   "id": "e935ed08",
   "metadata": {},
   "source": [
    "## CRISP-DM - Data Understanding\n",
    "\n",
    "- funded_amount - Amount received/paid out at the end of the crowding period in USD.\n",
    "- loan_amount - target amount (amount you wanted to reach for the project) in USD\n",
    "- activity - subcategory to which the goal of the crowd project belongs thematically\n",
    "- sector - upper category to which the crowdproject's topic belongs\n",
    "- use - short description of what the money will be used for\n",
    "- country_code - country code according to ISO standard\n",
    "- country - country name according to ISO standard\n",
    "- region - region\n",
    "- currency - currency in which the funded_amount was then paid out\n",
    "- term in months - duration over which the loan is to be paid\n",
    "- lender_count - lender (how many people have given money for the project)\n",
    "- borrower_genders - gender and number of borrowers, i.e. those who initiated the crowdproject       \n",
    "- repayment interval - contractually agreed repayment modalities/rhythm"
   ]
  },
  {
   "cell_type": "markdown",
   "id": "5f2336e5",
   "metadata": {},
   "source": [
    "## CRISP-DM - Data Preparation"
   ]
  },
  {
   "cell_type": "markdown",
   "id": "67dae385",
   "metadata": {},
   "source": [
    "### Reading in data"
   ]
  },
  {
   "cell_type": "code",
   "execution_count": 1,
   "id": "d4d65695",
   "metadata": {},
   "outputs": [],
   "source": [
    "# Import libraries\n",
    "import pandas as pd\n",
    "import numpy as np\n",
    "from collections import Counter"
   ]
  },
  {
   "cell_type": "code",
   "execution_count": 2,
   "id": "37094822",
   "metadata": {},
   "outputs": [],
   "source": [
    "df = pd.read_csv(\n",
    "    'data_abschlussprojekt.csv',\n",
    "    sep='#',                      # Reading the .csv files with ',' fails. Upon investigation the seperator used is '#'\n",
    "    index_col=0                   # An index column is provided in the .csv dataset, use this instead of generating a new one\n",
    ")"
   ]
  },
  {
   "cell_type": "markdown",
   "id": "6c7b124e",
   "metadata": {},
   "source": [
    "### Initial data checks\n",
    "#### Column names"
   ]
  },
  {
   "cell_type": "code",
   "execution_count": 3,
   "id": "51b80b93",
   "metadata": {},
   "outputs": [
    {
     "data": {
      "text/plain": [
       "Index([' funded_amount', ' loan_amount', ' activity', ' sector', ' use',\n",
       "       ' country_code', ' country', ' region', ' currency', ' term_in_months',\n",
       "       ' lender_count', ' borrower_genders', ' repayment_interval'],\n",
       "      dtype='object')"
      ]
     },
     "execution_count": 3,
     "metadata": {},
     "output_type": "execute_result"
    }
   ],
   "source": [
    "# All column names have a space at the beginning which is not obvious without expection\n",
    "# To improve usability of the dataset for the rest of the analysis, the spaces will be removed\n",
    "\n",
    "df.columns"
   ]
  },
  {
   "cell_type": "code",
   "execution_count": 4,
   "id": "3276b555",
   "metadata": {},
   "outputs": [
    {
     "data": {
      "text/plain": [
       "Index(['funded_amount', 'loan_amount', 'activity', 'sector', 'use',\n",
       "       'country_code', 'country', 'region', 'currency', 'term_in_months',\n",
       "       'lender_count', 'borrower_genders', 'repayment_interval'],\n",
       "      dtype='object')"
      ]
     },
     "execution_count": 4,
     "metadata": {},
     "output_type": "execute_result"
    }
   ],
   "source": [
    "df.columns = df.columns.str.strip()\n",
    "df.columns"
   ]
  },
  {
   "cell_type": "markdown",
   "id": "de49f8be",
   "metadata": {},
   "source": [
    "#### Column data types"
   ]
  },
  {
   "cell_type": "code",
   "execution_count": 5,
   "id": "f06b8a55",
   "metadata": {},
   "outputs": [
    {
     "data": {
      "text/plain": [
       "funded_amount         float64\n",
       "loan_amount           float64\n",
       "activity               object\n",
       "sector                 object\n",
       "use                    object\n",
       "country_code           object\n",
       "country                object\n",
       "region                 object\n",
       "currency               object\n",
       "term_in_months        float64\n",
       "lender_count            int64\n",
       "borrower_genders       object\n",
       "repayment_interval     object\n",
       "dtype: object"
      ]
     },
     "execution_count": 5,
     "metadata": {},
     "output_type": "execute_result"
    }
   ],
   "source": [
    "# Checking to ensure that columns have the appropriate data types. \n",
    "# All numeric columns have appropriate data types. \n",
    "df.dtypes"
   ]
  },
  {
   "cell_type": "markdown",
   "id": "a9cb768a",
   "metadata": {},
   "source": [
    "#### System known missing values"
   ]
  },
  {
   "cell_type": "code",
   "execution_count": 6,
   "id": "6a3f1f7e",
   "metadata": {},
   "outputs": [
    {
     "name": "stdout",
     "output_type": "stream",
     "text": [
      "<class 'pandas.core.frame.DataFrame'>\n",
      "Int64Index: 671205 entries, 0 to 671204\n",
      "Data columns (total 13 columns):\n",
      " #   Column              Non-Null Count   Dtype  \n",
      "---  ------              --------------   -----  \n",
      " 0   funded_amount       671205 non-null  float64\n",
      " 1   loan_amount         671205 non-null  float64\n",
      " 2   activity            671205 non-null  object \n",
      " 3   sector              671205 non-null  object \n",
      " 4   use                 666973 non-null  object \n",
      " 5   country_code        671197 non-null  object \n",
      " 6   country             671205 non-null  object \n",
      " 7   region              614405 non-null  object \n",
      " 8   currency            671205 non-null  object \n",
      " 9   term_in_months      671205 non-null  float64\n",
      " 10  lender_count        671205 non-null  int64  \n",
      " 11  borrower_genders    666984 non-null  object \n",
      " 12  repayment_interval  671205 non-null  object \n",
      "dtypes: float64(3), int64(1), object(9)\n",
      "memory usage: 71.7+ MB\n"
     ]
    }
   ],
   "source": [
    "# There are 671,205 total entries, compared to the non-null numbers below shows the initial system detected missing values\n",
    "# per column. Columns with known missing values: use, country_code, region, borrower_genders\n",
    "df.info()"
   ]
  },
  {
   "cell_type": "markdown",
   "id": "61028c44",
   "metadata": {},
   "source": [
    "### Data quality\n",
    "\n",
    "#### Removing leading and trailing spaces from data\n",
    "\n",
    "Before identifying duplicates, it is important to ensure that data in string columns do not have spaces at the start or end in order to avoid duplicates being missed."
   ]
  },
  {
   "cell_type": "code",
   "execution_count": 7,
   "id": "51e1cdae",
   "metadata": {},
   "outputs": [],
   "source": [
    "# Extracting which columns have string datatypes, as the .str.strip() cannot be applied to columns\n",
    "# that do not have string as a datatype, such as int or float columns.\n",
    "string_columns = df.dtypes.loc[df.dtypes=='object'].index\n",
    "\n",
    "# Programatically looping over columns rather than copy and pasting each column name \n",
    "for column in string_columns:\n",
    "    df[column] = df[column].str.strip()"
   ]
  },
  {
   "cell_type": "markdown",
   "id": "1fdf39e0",
   "metadata": {},
   "source": [
    "#### Capitalisation of data\n",
    "\n",
    "Before identifying duplicates, it is also important to ensure that data in string columns are capitalised in a consistent manner since Python is a case sensitive language. Otherwise, two values that are informationally the same will not be identified as the same by Python.\n",
    "\n",
    "The column 'use' will not be checked, as this is a free-text field and will not be used as a field to filter on later.\n",
    "\n",
    "By sorting values and printing unique values, any lowercase cases will be sorted to the end of the returned list."
   ]
  },
  {
   "cell_type": "code",
   "execution_count": 8,
   "id": "c0e06920",
   "metadata": {},
   "outputs": [
    {
     "data": {
      "text/plain": [
       "array(['Adult Care', 'Agriculture', 'Air Conditioning', 'Animal Sales',\n",
       "       'Aquaculture', 'Arts', 'Auto Repair', 'Bakery', 'Balut-Making',\n",
       "       'Barber Shop', 'Beauty Salon', 'Beekeeping', 'Beverages',\n",
       "       'Bicycle Repair', 'Bicycle Sales', 'Blacksmith', 'Bookbinding',\n",
       "       'Bookstore', 'Bricks', 'Butcher Shop', 'Cafe', 'Call Center',\n",
       "       'Carpentry', 'Catering', 'Cattle', 'Celebrations', 'Cement',\n",
       "       'Cereals', 'Charcoal Sales', 'Cheese Making', 'Child Care',\n",
       "       'Cleaning Services', 'Cloth & Dressmaking Supplies', 'Clothing',\n",
       "       'Clothing Sales', 'Cobbler', 'Communications', 'Computer',\n",
       "       'Computers', 'Construction', 'Construction Supplies',\n",
       "       'Consumer Goods', 'Cosmetics Sales', 'Crafts', 'Dairy',\n",
       "       'Decorations Sales', 'Dental', 'Education provider',\n",
       "       'Electrical Goods', 'Electrician', 'Electronics Repair',\n",
       "       'Electronics Sales', 'Embroidery', 'Energy', 'Entertainment',\n",
       "       'Event Planning', 'Farm Supplies', 'Farming', 'Film',\n",
       "       'Fish Selling', 'Fishing', 'Florist', 'Flowers', 'Food',\n",
       "       'Food Market', 'Food Production/Sales', 'Food Stall',\n",
       "       'Fruits & Vegetables', 'Fuel/Firewood', 'Funerals',\n",
       "       'Furniture Making', 'Games', 'General Store', 'Goods Distribution',\n",
       "       'Grocery Store', 'Hardware', 'Health', 'Higher education costs',\n",
       "       'Home Appliances', 'Home Energy', 'Home Products Sales', 'Hotel',\n",
       "       'Internet Cafe', 'Jewelry', 'Knitting', 'Land Rental',\n",
       "       'Landscaping / Gardening', 'Laundry', 'Liquor Store / Off-License',\n",
       "       'Livestock', 'Machine Shop', 'Machinery Rental', 'Manufacturing',\n",
       "       'Medical Clinic', 'Metal Shop', 'Milk Sales', 'Mobile Phones',\n",
       "       'Mobile Transactions', 'Motorcycle Repair', 'Motorcycle Transport',\n",
       "       'Movie Tapes & DVDs', 'Music Discs & Tapes', 'Musical Instruments',\n",
       "       'Musical Performance', 'Natural Medicines', 'Office Supplies',\n",
       "       'Paper Sales', 'Party Supplies', 'Patchwork', 'Perfumes',\n",
       "       'Personal Care Products', 'Personal Expenses',\n",
       "       'Personal Housing Expenses', 'Personal Medical Expenses',\n",
       "       'Personal Products Sales', 'Pharmacy', 'Phone Accessories',\n",
       "       'Phone Repair', 'Phone Use Sales', 'Photography', 'Pigs',\n",
       "       'Plastics Sales', 'Poultry', 'Primary/secondary school costs',\n",
       "       'Printing', 'Property', 'Pub', 'Quarrying', 'Recycled Materials',\n",
       "       'Recycling', 'Religious Articles', 'Renewable Energy Products',\n",
       "       'Restaurant', 'Retail', 'Rickshaw', 'Secretarial Services',\n",
       "       'Services', 'Sewing', 'Shoe Sales', 'Souvenir Sales',\n",
       "       'Spare Parts', 'Sporting Good Sales', 'Tailoring', 'Taxi',\n",
       "       'Technology', 'Textiles', 'Timber Sales', 'Tourism',\n",
       "       'Transportation', 'Traveling Sales', 'Upholstery', 'Used Clothing',\n",
       "       'Used Shoes', 'Utilities', 'Vehicle', 'Vehicle Repairs',\n",
       "       'Veterinary Sales', 'Waste Management', 'Water Distribution',\n",
       "       'Weaving', 'Wedding Expenses', 'Well digging', 'Wholesale'],\n",
       "      dtype=object)"
      ]
     },
     "execution_count": 8,
     "metadata": {},
     "output_type": "execute_result"
    }
   ],
   "source": [
    "df.loc[:,'activity'].sort_values().unique()"
   ]
  },
  {
   "cell_type": "code",
   "execution_count": 9,
   "id": "43b0623f",
   "metadata": {},
   "outputs": [
    {
     "data": {
      "text/plain": [
       "array(['Agriculture', 'Arts', 'Clothing', 'Construction', 'Education',\n",
       "       'Entertainment', 'Food', 'Health', 'Housing', 'Manufacturing',\n",
       "       'Personal Use', 'Retail', 'Services', 'Transportation',\n",
       "       'Wholesale'], dtype=object)"
      ]
     },
     "execution_count": 9,
     "metadata": {},
     "output_type": "execute_result"
    }
   ],
   "source": [
    "df.loc[:,'sector'].sort_values().unique()"
   ]
  },
  {
   "cell_type": "code",
   "execution_count": 10,
   "id": "153e6c68",
   "metadata": {},
   "outputs": [
    {
     "data": {
      "text/plain": [
       "array(['AF', 'AL', 'AM', 'AZ', 'BF', 'BI', 'BJ', 'BO', 'BR', 'BT', 'BZ',\n",
       "       'CD', 'CG', 'CI', 'CL', 'CM', 'CN', 'CO', 'CR', 'DO', 'EC', 'EG',\n",
       "       'GE', 'GH', 'GT', 'GU', 'HN', 'HT', 'ID', 'IL', 'IN', 'IQ', 'JO',\n",
       "       'KE', 'KG', 'KH', 'LA', 'LB', 'LR', 'LS', 'MD', 'MG', 'ML', 'MM',\n",
       "       'MN', 'MR', 'MW', 'MX', 'MZ', 'NG', 'NI', 'NP', 'PA', 'PE', 'PH',\n",
       "       'PK', 'PR', 'PS', 'PY', 'RW', 'SB', 'SL', 'SN', 'SO', 'SR', 'SS',\n",
       "       'SV', 'TG', 'TH', 'TJ', 'TL', 'TR', 'TZ', 'UA', 'UG', 'US', 'VC',\n",
       "       'VI', 'VN', 'VU', 'WS', 'XK', 'YE', 'ZA', 'ZM', 'ZW', nan],\n",
       "      dtype=object)"
      ]
     },
     "execution_count": 10,
     "metadata": {},
     "output_type": "execute_result"
    }
   ],
   "source": [
    "df.loc[:,'country_code'].sort_values().unique()"
   ]
  },
  {
   "cell_type": "code",
   "execution_count": 11,
   "id": "3a423008",
   "metadata": {},
   "outputs": [
    {
     "data": {
      "text/plain": [
       "array(['Afghanistan', 'Albania', 'Armenia', 'Azerbaijan', 'Belize',\n",
       "       'Benin', 'Bhutan', 'Bolivia', 'Brazil', 'Burkina Faso', 'Burundi',\n",
       "       'Cambodia', 'Cameroon', 'Chile', 'China', 'Colombia', 'Congo',\n",
       "       'Costa Rica', \"Cote D'Ivoire\", 'Dominican Republic', 'Ecuador',\n",
       "       'Egypt', 'El Salvador', 'Georgia', 'Ghana', 'Guam', 'Guatemala',\n",
       "       'Haiti', 'Honduras', 'India', 'Indonesia', 'Iraq', 'Israel',\n",
       "       'Jordan', 'Kenya', 'Kosovo', 'Kyrgyzstan',\n",
       "       \"Lao People's Democratic Republic\", 'Lebanon', 'Lesotho',\n",
       "       'Liberia', 'Madagascar', 'Malawi', 'Mali', 'Mauritania', 'Mexico',\n",
       "       'Moldova', 'Mongolia', 'Mozambique', 'Myanmar (Burma)', 'Namibia',\n",
       "       'Nepal', 'Nicaragua', 'Nigeria', 'Pakistan', 'Palestine', 'Panama',\n",
       "       'Paraguay', 'Peru', 'Philippines', 'Puerto Rico', 'Rwanda',\n",
       "       'Saint Vincent and the Grenadines', 'Samoa', 'Senegal',\n",
       "       'Sierra Leone', 'Solomon Islands', 'Somalia', 'South Africa',\n",
       "       'South Sudan', 'Suriname', 'Tajikistan', 'Tanzania', 'Thailand',\n",
       "       'The Democratic Republic of the Congo', 'Timor-Leste', 'Togo',\n",
       "       'Turkey', 'Uganda', 'Ukraine', 'United States', 'Vanuatu',\n",
       "       'Vietnam', 'Virgin Islands', 'Yemen', 'Zambia', 'Zimbabwe'],\n",
       "      dtype=object)"
      ]
     },
     "execution_count": 11,
     "metadata": {},
     "output_type": "execute_result"
    }
   ],
   "source": [
    "df.loc[:,'country'].sort_values().unique()"
   ]
  },
  {
   "cell_type": "code",
   "execution_count": 12,
   "id": "16b9852c",
   "metadata": {},
   "outputs": [
    {
     "data": {
      "text/plain": [
       "array(['ALL', 'AMD', 'AZN', 'BIF', 'BOB', 'BRL', 'BZD', 'CLP', 'CNY',\n",
       "       'COP', 'CRC', 'DOP', 'EGP', 'EUR', 'GEL', 'GHS', 'GTQ', 'HNL',\n",
       "       'HTG', 'IDR', 'ILS', 'INR', 'JOD', 'KES', 'KGS', 'KHR', 'LAK',\n",
       "       'LBP', 'LRD', 'LSL', 'MDL', 'MGA', 'MMK', 'MNT', 'MWK', 'MXN',\n",
       "       'MZN', 'NAD', 'NGN', 'NIO', 'NPR', 'PEN', 'PHP', 'PKR', 'PYG',\n",
       "       'RWF', 'SBD', 'SLL', 'SRD', 'SSP', 'THB', 'TJS', 'TRY', 'TZS',\n",
       "       'UAH', 'UGX', 'USD', 'VND', 'VUV', 'WST', 'XAF', 'XCD', 'XOF',\n",
       "       'YER', 'ZAR', 'ZMW', 'ZWD'], dtype=object)"
      ]
     },
     "execution_count": 12,
     "metadata": {},
     "output_type": "execute_result"
    }
   ],
   "source": [
    "df.loc[:,'currency'].sort_values().unique()"
   ]
  },
  {
   "cell_type": "code",
   "execution_count": 13,
   "id": "e32a0615",
   "metadata": {},
   "outputs": [
    {
     "data": {
      "text/plain": [
       "array(['bullet', 'irregular', 'monthly', 'weekly'], dtype=object)"
      ]
     },
     "execution_count": 13,
     "metadata": {},
     "output_type": "execute_result"
    }
   ],
   "source": [
    "# Although there are lowercase entries here, it is not an issue as all values are lowercase.\n",
    "df.loc[:,'repayment_interval'].sort_values().unique()"
   ]
  },
  {
   "cell_type": "code",
   "execution_count": 14,
   "id": "665142a5",
   "metadata": {},
   "outputs": [
    {
     "data": {
      "text/plain": [
       "array(['Lahore', 'Maynaguri', 'Abdul Hakeem', ..., 'Gbenikoro Village',\n",
       "       'Morimaraia', 'alejandria'], dtype=object)"
      ]
     },
     "execution_count": 14,
     "metadata": {},
     "output_type": "execute_result"
    }
   ],
   "source": [
    "# For the column region, unique provides too many vaules to check by eye.\n",
    "# However, we see from the output below that at least one value is not capitalised\n",
    "df.loc[:,'region'].unique()"
   ]
  },
  {
   "cell_type": "code",
   "execution_count": 15,
   "id": "c1155639",
   "metadata": {},
   "outputs": [
    {
     "data": {
      "text/plain": [
       "87        jenin\n",
       "126        gaza\n",
       "279        gaza\n",
       "312        gaza\n",
       "313       jenin\n",
       "          ...  \n",
       "670878    turbo\n",
       "670978    turbo\n",
       "670991    turbo\n",
       "671037    turbo\n",
       "671087    turbo\n",
       "Name: region, Length: 6120, dtype: object"
      ]
     },
     "execution_count": 15,
     "metadata": {},
     "output_type": "execute_result"
    }
   ],
   "source": [
    "# There are 6120 cases of regions that are not captilized, with 286 unique cases.\n",
    "# .notnull is required as otherwise an error is returned for trying to perform a string methond on a np.nan.\n",
    "lower_case_region = df.loc[(df.region.str[0].str.islower()) & (df.region.notnull()), 'region']\n",
    "lower_case_region"
   ]
  },
  {
   "cell_type": "code",
   "execution_count": 16,
   "id": "54441005",
   "metadata": {},
   "outputs": [
    {
     "data": {
      "text/plain": [
       "baguida                                828\n",
       "karatina                               563\n",
       "hodeidah                               467\n",
       "nyeri                                  380\n",
       "sindangan, zamboanga del norte         321\n",
       "                                      ... \n",
       "tuburan, aloran, mis.occ.                1\n",
       "p-2, culpan, aloran. mis.occ.            1\n",
       "shichirai-kakamega                       1\n",
       "p-3, eastern poblacion, lopez jaena      1\n",
       "alejandria                               1\n",
       "Name: region, Length: 286, dtype: int64"
      ]
     },
     "execution_count": 16,
     "metadata": {},
     "output_type": "execute_result"
    }
   ],
   "source": [
    "lower_case_region.value_counts()"
   ]
  },
  {
   "cell_type": "code",
   "execution_count": 17,
   "id": "06a14022",
   "metadata": {},
   "outputs": [],
   "source": [
    "df['region'] = df['region'].str.capitalize()"
   ]
  },
  {
   "cell_type": "markdown",
   "id": "e302e68b",
   "metadata": {},
   "source": [
    "#### Business Logic\n",
    "Per the business understanding, it would be expected that the column funded_amount should not exceed the value in loan_amount, as then the borrower would be receiving more money than they had requested. We check this to ensure there is not a business bug. "
   ]
  },
  {
   "cell_type": "code",
   "execution_count": 18,
   "id": "92f9d839",
   "metadata": {},
   "outputs": [
    {
     "data": {
      "text/html": [
       "<div>\n",
       "<style scoped>\n",
       "    .dataframe tbody tr th:only-of-type {\n",
       "        vertical-align: middle;\n",
       "    }\n",
       "\n",
       "    .dataframe tbody tr th {\n",
       "        vertical-align: top;\n",
       "    }\n",
       "\n",
       "    .dataframe thead th {\n",
       "        text-align: right;\n",
       "    }\n",
       "</style>\n",
       "<table border=\"1\" class=\"dataframe\">\n",
       "  <thead>\n",
       "    <tr style=\"text-align: right;\">\n",
       "      <th></th>\n",
       "      <th>funded_amount</th>\n",
       "      <th>loan_amount</th>\n",
       "      <th>activity</th>\n",
       "      <th>sector</th>\n",
       "      <th>use</th>\n",
       "      <th>country_code</th>\n",
       "      <th>country</th>\n",
       "      <th>region</th>\n",
       "      <th>currency</th>\n",
       "      <th>term_in_months</th>\n",
       "      <th>lender_count</th>\n",
       "      <th>borrower_genders</th>\n",
       "      <th>repayment_interval</th>\n",
       "    </tr>\n",
       "  </thead>\n",
       "  <tbody>\n",
       "    <tr>\n",
       "      <th>277188</th>\n",
       "      <td>425.0</td>\n",
       "      <td>400.0</td>\n",
       "      <td>General Store</td>\n",
       "      <td>Retail</td>\n",
       "      <td>to buy beverages, rice, laundry detergent, sug...</td>\n",
       "      <td>MZ</td>\n",
       "      <td>Mozambique</td>\n",
       "      <td>Boane, maputo</td>\n",
       "      <td>MZN</td>\n",
       "      <td>17.0</td>\n",
       "      <td>11</td>\n",
       "      <td>male</td>\n",
       "      <td>monthly</td>\n",
       "    </tr>\n",
       "    <tr>\n",
       "      <th>338159</th>\n",
       "      <td>3400.0</td>\n",
       "      <td>3000.0</td>\n",
       "      <td>Farm Supplies</td>\n",
       "      <td>Agriculture</td>\n",
       "      <td>to pay for wires for the grape orchard, cover ...</td>\n",
       "      <td>AM</td>\n",
       "      <td>Armenia</td>\n",
       "      <td>Hoktember village, armavir region</td>\n",
       "      <td>USD</td>\n",
       "      <td>38.0</td>\n",
       "      <td>84</td>\n",
       "      <td>male</td>\n",
       "      <td>monthly</td>\n",
       "    </tr>\n",
       "  </tbody>\n",
       "</table>\n",
       "</div>"
      ],
      "text/plain": [
       "        funded_amount  loan_amount       activity       sector  \\\n",
       "277188          425.0        400.0  General Store       Retail   \n",
       "338159         3400.0       3000.0  Farm Supplies  Agriculture   \n",
       "\n",
       "                                                      use country_code  \\\n",
       "277188  to buy beverages, rice, laundry detergent, sug...           MZ   \n",
       "338159  to pay for wires for the grape orchard, cover ...           AM   \n",
       "\n",
       "           country                             region currency  \\\n",
       "277188  Mozambique                      Boane, maputo      MZN   \n",
       "338159     Armenia  Hoktember village, armavir region      USD   \n",
       "\n",
       "        term_in_months  lender_count borrower_genders repayment_interval  \n",
       "277188            17.0            11             male            monthly  \n",
       "338159            38.0            84             male            monthly  "
      ]
     },
     "execution_count": 18,
     "metadata": {},
     "output_type": "execute_result"
    }
   ],
   "source": [
    "df.loc[(df.funded_amount > df.loan_amount)]"
   ]
  },
  {
   "cell_type": "markdown",
   "id": "b4bb45e6",
   "metadata": {},
   "source": [
    "There are two cases where borrowers received more funding than they requested. These two cases will be passed along to the product team to investigate the business bug and customer relationship teams to investigate further and to reach out the corresponding borrowers if necessary. \n",
    "\n",
    "For this analysis, we will lower the funded amount to the loan amount to reflect a 100% funded status as borrowers did receive at least the amount they requested."
   ]
  },
  {
   "cell_type": "code",
   "execution_count": 19,
   "id": "5ee72b28",
   "metadata": {},
   "outputs": [
    {
     "data": {
      "text/html": [
       "<div>\n",
       "<style scoped>\n",
       "    .dataframe tbody tr th:only-of-type {\n",
       "        vertical-align: middle;\n",
       "    }\n",
       "\n",
       "    .dataframe tbody tr th {\n",
       "        vertical-align: top;\n",
       "    }\n",
       "\n",
       "    .dataframe thead th {\n",
       "        text-align: right;\n",
       "    }\n",
       "</style>\n",
       "<table border=\"1\" class=\"dataframe\">\n",
       "  <thead>\n",
       "    <tr style=\"text-align: right;\">\n",
       "      <th></th>\n",
       "      <th>funded_amount</th>\n",
       "      <th>loan_amount</th>\n",
       "      <th>activity</th>\n",
       "      <th>sector</th>\n",
       "      <th>use</th>\n",
       "      <th>country_code</th>\n",
       "      <th>country</th>\n",
       "      <th>region</th>\n",
       "      <th>currency</th>\n",
       "      <th>term_in_months</th>\n",
       "      <th>lender_count</th>\n",
       "      <th>borrower_genders</th>\n",
       "      <th>repayment_interval</th>\n",
       "    </tr>\n",
       "  </thead>\n",
       "  <tbody>\n",
       "    <tr>\n",
       "      <th>277188</th>\n",
       "      <td>400.0</td>\n",
       "      <td>400.0</td>\n",
       "      <td>General Store</td>\n",
       "      <td>Retail</td>\n",
       "      <td>to buy beverages, rice, laundry detergent, sug...</td>\n",
       "      <td>MZ</td>\n",
       "      <td>Mozambique</td>\n",
       "      <td>Boane, maputo</td>\n",
       "      <td>MZN</td>\n",
       "      <td>17.0</td>\n",
       "      <td>11</td>\n",
       "      <td>male</td>\n",
       "      <td>monthly</td>\n",
       "    </tr>\n",
       "    <tr>\n",
       "      <th>338159</th>\n",
       "      <td>3000.0</td>\n",
       "      <td>3000.0</td>\n",
       "      <td>Farm Supplies</td>\n",
       "      <td>Agriculture</td>\n",
       "      <td>to pay for wires for the grape orchard, cover ...</td>\n",
       "      <td>AM</td>\n",
       "      <td>Armenia</td>\n",
       "      <td>Hoktember village, armavir region</td>\n",
       "      <td>USD</td>\n",
       "      <td>38.0</td>\n",
       "      <td>84</td>\n",
       "      <td>male</td>\n",
       "      <td>monthly</td>\n",
       "    </tr>\n",
       "  </tbody>\n",
       "</table>\n",
       "</div>"
      ],
      "text/plain": [
       "        funded_amount  loan_amount       activity       sector  \\\n",
       "277188          400.0        400.0  General Store       Retail   \n",
       "338159         3000.0       3000.0  Farm Supplies  Agriculture   \n",
       "\n",
       "                                                      use country_code  \\\n",
       "277188  to buy beverages, rice, laundry detergent, sug...           MZ   \n",
       "338159  to pay for wires for the grape orchard, cover ...           AM   \n",
       "\n",
       "           country                             region currency  \\\n",
       "277188  Mozambique                      Boane, maputo      MZN   \n",
       "338159     Armenia  Hoktember village, armavir region      USD   \n",
       "\n",
       "        term_in_months  lender_count borrower_genders repayment_interval  \n",
       "277188            17.0            11             male            monthly  \n",
       "338159            38.0            84             male            monthly  "
      ]
     },
     "execution_count": 19,
     "metadata": {},
     "output_type": "execute_result"
    }
   ],
   "source": [
    "business_bug_index = df.loc[(df.funded_amount > df.loan_amount)].index\n",
    "df.loc[(df.funded_amount > df.loan_amount), 'funded_amount'] = df.loc[(df.funded_amount > df.loan_amount), 'loan_amount']\n",
    "df.loc[df.index.isin(business_bug_index)]"
   ]
  },
  {
   "cell_type": "markdown",
   "id": "4794df4a",
   "metadata": {},
   "source": [
    "### Check for duplicates\n",
    "\n",
    "#### Definition of a duplicate\n",
    "\n",
    "Since we do not have a unique identifier per crowd-investment, and all values in all columns cannot be expected to be unique, combinations of columns together need to be used in an attempt to identify duplicate entries. The most confident we can be that duplicate exists is if two entries are exactly the same across all columns. The likelihood of any two rows having exactly the same values and being valid is low enough to use this as a criteria, especially since the 'use' column is a free-text field."
   ]
  },
  {
   "cell_type": "markdown",
   "id": "bbd3bc4b",
   "metadata": {},
   "source": [
    "#### Identifying duplicates"
   ]
  },
  {
   "cell_type": "code",
   "execution_count": 20,
   "id": "6da23de8",
   "metadata": {},
   "outputs": [
    {
     "data": {
      "text/plain": [
       "Int64Index([   498,    606,    808,   1703,   2317,   2606,   3266,   3440,\n",
       "              3602,   3605,\n",
       "            ...\n",
       "            671195, 671196, 671197, 671198, 671199, 671200, 671201, 671202,\n",
       "            671203, 671204],\n",
       "           dtype='int64', length=25580)"
      ]
     },
     "execution_count": 20,
     "metadata": {},
     "output_type": "execute_result"
    }
   ],
   "source": [
    "duplicates = df.loc[df.duplicated()==True].index\n",
    "duplicates"
   ]
  },
  {
   "cell_type": "markdown",
   "id": "03bbe15f",
   "metadata": {},
   "source": [
    "#### Handling Duplicates\n",
    "\n",
    "Since all values across dupliate rows are the same, we do not need to be consider which of the duplicate rows to remove as long as one occurance remains. Afterwards we reset the index. "
   ]
  },
  {
   "cell_type": "code",
   "execution_count": 21,
   "id": "269a916c",
   "metadata": {},
   "outputs": [],
   "source": [
    "df_duplicate_dropped = df.drop(index=duplicates)\n",
    "df_duplicate_dropped.reset_index(drop=True, inplace=True)"
   ]
  },
  {
   "cell_type": "markdown",
   "id": "d6a37058",
   "metadata": {},
   "source": [
    "### Missing values"
   ]
  },
  {
   "cell_type": "markdown",
   "id": "8286c6ce",
   "metadata": {},
   "source": [
    "#### Identify and convert missing value synonyms\n",
    "\n",
    "First, we eyeball the data to see if there are any obvious synonyms"
   ]
  },
  {
   "cell_type": "code",
   "execution_count": 22,
   "id": "59311813",
   "metadata": {
    "scrolled": false
   },
   "outputs": [
    {
     "data": {
      "text/plain": [
       "array([3.0000e+02, 5.7500e+02, 1.5000e+02, 2.0000e+02, 4.0000e+02,\n",
       "       2.5000e+02, 4.7500e+02, 6.2500e+02, 2.2500e+02, 8.7500e+02,\n",
       "       3.5000e+02, 1.2500e+02, 4.5000e+02, 2.2250e+03, 6.0000e+02,\n",
       "       3.1750e+03, 1.7500e+02, 5.5000e+02, 7.0000e+02, 8.0000e+02,\n",
       "       4.2750e+03, 1.5000e+03, 3.2500e+02, 2.7500e+02, 1.0750e+03,\n",
       "       2.0000e+03, 2.7750e+03, 1.5500e+03, 1.0000e+03, 3.0000e+03,\n",
       "       3.0500e+03, 5.4750e+03, 5.7750e+03, 2.2000e+03, 5.0000e+03,\n",
       "       1.2500e+03, 3.9750e+03, 9.2500e+02, 1.9250e+03, 4.0000e+03,\n",
       "       1.1500e+03, 1.3000e+03, 4.6250e+03, 8.5000e+02, 7.5000e+02,\n",
       "       2.9750e+03, 1.1750e+03, 4.7500e+03, 3.7500e+02, 1.0250e+03,\n",
       "       1.2000e+03, 1.3250e+03, 7.2500e+02, 2.1000e+03, 3.4000e+03,\n",
       "       2.9000e+03, 4.2500e+02, 2.8500e+03, 4.2500e+03, 5.0000e+02,\n",
       "       1.2250e+03, 2.6250e+03, 2.7500e+03, 1.6250e+03, 1.4750e+03,\n",
       "       2.4000e+03, 2.1250e+03, 4.1750e+03, 2.5000e+03, 1.7000e+03,\n",
       "       1.0000e+04, 5.1000e+03, 6.7500e+02, 5.2500e+02, 3.8000e+03,\n",
       "       4.5000e+03, 6.5000e+02, 1.8500e+03, 1.5250e+03, 2.4250e+03,\n",
       "       7.7500e+02, 1.5750e+03, 1.0500e+03, 1.4500e+03, 2.4500e+03,\n",
       "       1.8000e+03, 5.9250e+03, 2.6500e+03, 4.3000e+03, 1.0000e+02,\n",
       "       9.5000e+02, 2.3500e+03, 2.5500e+03, 1.1000e+03, 9.0000e+02,\n",
       "       2.2500e+03, 5.4500e+03, 1.7500e+03, 3.0250e+03, 4.9000e+03,\n",
       "       1.2750e+03, 2.6000e+03, 5.1500e+03, 1.8750e+03, 2.5250e+03,\n",
       "       1.6500e+03, 3.9250e+03, 4.5750e+03, 1.3500e+03, 1.4000e+03,\n",
       "       4.4750e+03, 3.9000e+03, 1.9750e+03, 8.2500e+02, 2.0250e+03,\n",
       "       5.8500e+03, 4.4500e+03, 2.4750e+03, 1.6750e+03, 2.0750e+03,\n",
       "       1.4250e+03, 5.6250e+03, 7.5000e+01, 1.1250e+03, 1.9000e+03,\n",
       "       1.3750e+03, 3.4250e+03, 1.6000e+03, 9.7500e+02, 3.5250e+03,\n",
       "       2.7000e+03, 5.0750e+03, 2.0500e+03, 3.8250e+03, 1.7250e+03,\n",
       "       2.3000e+03, 3.3000e+03, 5.3500e+03, 5.0250e+03, 4.2000e+03,\n",
       "       2.3250e+03, 1.7750e+03, 4.4000e+03, 3.6500e+03, 3.9500e+03,\n",
       "       6.6250e+03, 5.0000e+01, 3.7750e+03, 2.1500e+03, 3.4750e+03,\n",
       "       3.1250e+03, 8.0000e+03, 6.0500e+03, 1.9500e+03, 3.0000e+01,\n",
       "       3.2000e+03, 3.8500e+03, 2.7250e+03, 2.2750e+03, 4.0750e+03,\n",
       "       2.3750e+03, 2.6750e+03, 4.0250e+03, 6.6500e+03, 1.8250e+03,\n",
       "       4.8750e+03, 5.3250e+03, 4.8500e+03, 1.0000e+01, 3.0750e+03,\n",
       "       7.5500e+02, 2.9250e+03, 3.2750e+03, 2.8000e+03, 5.5250e+03,\n",
       "       3.7250e+03, 3.1000e+03, 5.8250e+03, 4.7750e+03, 2.9500e+03,\n",
       "       3.5750e+03, 5.2000e+03, 2.8250e+03, 5.8750e+03, 6.0250e+03,\n",
       "       4.6500e+03, 9.6000e+03, 5.7500e+03, 2.8750e+03, 4.9250e+03,\n",
       "       4.1000e+03, 3.6250e+03, 3.6750e+03, 5.7000e+03, 5.3000e+03,\n",
       "       2.1750e+03, 3.7500e+03, 2.5300e+03, 5.2750e+03, 3.3250e+03,\n",
       "       5.5500e+03, 3.3750e+03, 4.6000e+03, 4.9500e+03, 9.4500e+03,\n",
       "       2.5750e+03, 4.9750e+03, 6.3500e+03, 3.4500e+03, 7.9500e+03,\n",
       "       7.5000e+03, 0.0000e+00, 6.1000e+03, 3.6000e+03, 3.2250e+03,\n",
       "       9.9750e+03, 4.3500e+03, 7.0000e+03, 4.2250e+03, 5.5750e+03,\n",
       "       4.8000e+03, 8.1250e+03, 3.2500e+03, 6.3250e+03, 5.9000e+03,\n",
       "       5.6750e+03, 5.2250e+03, 5.7250e+03, 6.6000e+03, 3.7000e+03,\n",
       "       4.3750e+03, 5.4250e+03, 4.5500e+03, 6.2250e+03, 5.0500e+03,\n",
       "       5.2500e+03, 5.9500e+03, 3.8750e+03, 6.5000e+03, 3.5500e+03,\n",
       "       6.0000e+03, 6.2500e+03, 4.7000e+03, 3.5000e+03, 5.3750e+03,\n",
       "       3.3500e+03, 5.1750e+03, 5.1250e+03, 7.1250e+03, 9.0000e+03,\n",
       "       6.2750e+03, 6.6500e+02, 6.4000e+03, 4.4250e+03, 3.1500e+03,\n",
       "       9.6250e+03, 4.3250e+03, 1.2925e+04, 6.4250e+03, 8.1500e+03,\n",
       "       7.1000e+03, 8.1000e+03, 4.1500e+03, 6.1500e+03, 9.9500e+03,\n",
       "       4.8250e+03, 6.3750e+03, 4.6750e+03, 4.3000e+02, 4.1250e+03,\n",
       "       5.5000e+03, 7.4250e+03, 5.6500e+03, 7.9750e+03, 6.5250e+03,\n",
       "       6.4750e+03, 7.8750e+03, 6.1750e+03, 7.4000e+03, 4.7250e+03,\n",
       "       4.0500e+03, 5.8000e+03, 5.6000e+03, 2.3000e+02, 4.5250e+03,\n",
       "       6.8000e+03, 9.5750e+03, 7.2000e+03, 9.5000e+01, 8.6750e+03,\n",
       "       6.1250e+03, 5.9750e+03, 8.3750e+03, 7.5750e+03, 6.7250e+03,\n",
       "       9.5000e+03, 6.4500e+03, 9.5250e+03, 8.2000e+03, 6.2000e+03,\n",
       "       2.5000e+01, 8.1750e+03, 7.5500e+03, 9.2000e+03, 8.6000e+03,\n",
       "       9.3000e+03, 6.7000e+03, 7.7000e+03, 7.6750e+03, 8.4250e+03,\n",
       "       7.0250e+03, 7.3750e+03, 6.5750e+03, 7.6250e+03, 9.8500e+03,\n",
       "       6.7500e+03, 9.3250e+03, 7.0500e+03, 1.0150e+04, 6.0750e+03,\n",
       "       1.1500e+02, 1.1650e+04, 6.8750e+03, 1.1775e+04, 8.7500e+03,\n",
       "       9.2750e+03, 7.7500e+03, 6.6750e+03, 5.0000e+04, 6.7750e+03,\n",
       "       9.7000e+03, 7.2750e+03, 1.1575e+04, 6.9500e+03, 7.8000e+03,\n",
       "       8.0250e+03, 2.0000e+04, 9.9000e+03, 7.6000e+03, 4.1500e+02,\n",
       "       1.4725e+04, 6.9000e+03, 2.5000e+04, 1.5000e+04, 5.4000e+03,\n",
       "       7.3000e+03, 8.5000e+03, 6.5500e+03, 7.7250e+03, 7.6500e+03,\n",
       "       7.1500e+03, 7.9000e+03, 2.0000e+01, 1.3975e+04, 6.8500e+03,\n",
       "       8.5750e+03, 7.4750e+03, 8.0000e+01, 4.0500e+02, 8.4000e+03,\n",
       "       6.9250e+03, 2.1000e+02, 8.0500e+03, 9.9250e+03, 7.3250e+03,\n",
       "       6.3000e+03, 8.2250e+03, 9.2500e+03, 8.9750e+03, 9.5500e+03,\n",
       "       9.3500e+03, 1.8500e+02, 8.5000e+01, 4.0000e+01, 9.1000e+03,\n",
       "       1.3425e+04, 8.8000e+03, 2.2000e+02, 2.9950e+03, 3.5500e+02,\n",
       "       2.1150e+03, 1.2000e+04, 1.1000e+02, 2.5400e+03, 1.8450e+03,\n",
       "       1.0000e+05, 7.2500e+03, 8.2750e+03, 8.9000e+03, 7.0750e+03,\n",
       "       1.5050e+03, 2.5050e+03, 4.7200e+03, 6.0000e+01, 9.8000e+02,\n",
       "       4.5650e+03, 2.4500e+02, 9.1250e+03, 1.2000e+02, 8.7750e+03,\n",
       "       5.8100e+03, 1.9700e+03, 4.9450e+03, 2.6450e+03, 9.4000e+02,\n",
       "       5.1000e+02, 9.6750e+03, 9.0250e+03, 9.7500e+03, 9.8000e+03,\n",
       "       1.5500e+02, 2.1050e+03, 8.4750e+03, 1.9300e+03, 3.6500e+02,\n",
       "       7.8500e+03, 4.6500e+02, 1.2400e+03, 9.7250e+03, 1.2325e+04,\n",
       "       1.1600e+03, 2.8550e+03, 1.6350e+04, 1.3600e+04, 1.6825e+04,\n",
       "       7.4500e+03, 1.3025e+04, 1.8325e+04, 9.2000e+02, 7.7750e+03,\n",
       "       6.9500e+02, 1.2825e+04, 1.7650e+04, 5.0000e+00, 1.0800e+03,\n",
       "       8.5250e+03, 4.2000e+02, 2.6850e+03, 1.0625e+04, 1.2700e+04,\n",
       "       1.4700e+04, 8.0750e+03, 6.9750e+03, 1.1025e+04, 1.3825e+04,\n",
       "       3.0500e+02, 2.9550e+03, 4.5000e+01, 7.3500e+03, 2.6100e+03,\n",
       "       3.5400e+03, 1.0100e+03, 3.1000e+02, 8.0500e+02, 1.5650e+03,\n",
       "       6.8250e+03, 8.9250e+03, 8.8500e+03, 9.1750e+03, 2.9700e+03,\n",
       "       7.5250e+03, 7.1750e+03, 1.0100e+04, 2.5500e+04, 2.6750e+04,\n",
       "       8.7000e+03, 2.9050e+04, 4.3450e+03, 2.8800e+03, 6.0100e+03,\n",
       "       2.7000e+04, 8.9500e+03, 3.9000e+02, 9.1500e+03, 1.2850e+03,\n",
       "       3.5000e+04, 7.8250e+03, 3.1600e+03, 1.5000e+01, 9.6500e+02,\n",
       "       3.5000e+01, 3.3450e+03, 8.3000e+03, 2.6000e+02, 9.0500e+02,\n",
       "       1.6000e+02, 1.4550e+03, 1.3875e+04, 5.5000e+01, 8.3250e+03,\n",
       "       1.5400e+03, 4.1700e+04, 3.1200e+03, 3.0200e+03, 3.8500e+02,\n",
       "       1.9000e+02, 9.2250e+03, 1.1800e+03, 3.9500e+02, 4.9250e+04,\n",
       "       8.4500e+03, 9.4750e+03, 8.3500e+03, 9.8750e+03, 9.8250e+03,\n",
       "       1.2450e+03, 3.8700e+03, 9.0500e+03, 7.9250e+03, 9.4250e+03,\n",
       "       1.3000e+02, 1.7850e+03, 5.9500e+02, 1.8400e+03, 1.6500e+02,\n",
       "       2.3500e+02, 5.2800e+03, 2.8350e+03, 5.8000e+02, 1.8950e+03,\n",
       "       3.4450e+03, 8.2000e+02, 4.9950e+04, 3.4000e+02, 2.5800e+03,\n",
       "       9.3000e+02, 1.4000e+02, 1.8650e+03, 3.2000e+02, 1.3450e+03,\n",
       "       1.2150e+03, 8.2500e+03, 9.4500e+02, 1.7050e+03, 3.7000e+02,\n",
       "       1.6800e+03, 2.9150e+03, 1.0500e+02, 7.3500e+02, 2.1850e+03,\n",
       "       2.0500e+02, 7.0000e+01, 2.0850e+03, 3.0000e+04, 8.5500e+03,\n",
       "       8.8500e+02, 6.1700e+03, 7.8500e+02, 3.3100e+03, 2.9000e+02,\n",
       "       1.3500e+02, 4.8000e+02, 4.7850e+03, 3.6650e+03, 2.4000e+04,\n",
       "       1.5300e+04, 1.0125e+04, 1.2475e+04, 9.0000e+01, 4.9925e+04,\n",
       "       1.9500e+02, 5.6500e+02, 1.0275e+04, 1.6275e+04, 8.8250e+03,\n",
       "       7.2250e+03, 1.3275e+04, 8.8750e+03, 4.0000e+04, 9.0750e+03,\n",
       "       9.3750e+03, 9.4000e+03, 1.1000e+04, 1.1875e+04, 1.4500e+04,\n",
       "       1.1250e+04, 8.6500e+03, 8.6250e+03, 4.2325e+04, 1.2400e+04,\n",
       "       1.2750e+04, 1.7050e+04, 1.5400e+04, 9.7750e+03, 1.6400e+04,\n",
       "       8.7250e+03, 1.6675e+04, 1.0425e+04, 1.5600e+04, 1.0200e+04,\n",
       "       3.0100e+04, 1.8050e+04, 4.9400e+04, 3.2000e+04, 1.4675e+04,\n",
       "       2.4450e+04, 1.2375e+04, 1.3000e+04, 1.5750e+04, 1.0025e+04,\n",
       "       1.5475e+04, 1.7500e+04, 1.6975e+04, 1.7475e+04, 3.6000e+04,\n",
       "       1.4300e+04, 1.2025e+04, 2.2500e+04, 1.3225e+04, 4.6125e+04])"
      ]
     },
     "execution_count": 22,
     "metadata": {},
     "output_type": "execute_result"
    }
   ],
   "source": [
    "df_duplicate_dropped.loc[:,'funded_amount'].unique()"
   ]
  },
  {
   "cell_type": "code",
   "execution_count": 23,
   "id": "e4cc6abd",
   "metadata": {},
   "outputs": [
    {
     "data": {
      "text/plain": [
       "array([3.0000e+02, 5.7500e+02, 1.5000e+02, 2.0000e+02, 4.0000e+02,\n",
       "       2.5000e+02, 4.7500e+02, 6.2500e+02, 2.2500e+02, 8.7500e+02,\n",
       "       3.5000e+02, 1.2500e+02, 4.5000e+02, 2.2250e+03, 6.0000e+02,\n",
       "       3.1750e+03, 1.7500e+02, 5.5000e+02, 7.0000e+02, 8.0000e+02,\n",
       "       4.2750e+03, 1.5000e+03, 3.2500e+02, 2.7500e+02, 1.0750e+03,\n",
       "       2.0000e+03, 2.7750e+03, 1.5500e+03, 1.0000e+03, 3.0000e+03,\n",
       "       3.0500e+03, 5.0000e+03, 5.4750e+03, 5.7750e+03, 2.2000e+03,\n",
       "       1.2500e+03, 3.9750e+03, 9.2500e+02, 2.4000e+03, 4.0000e+03,\n",
       "       1.1500e+03, 1.3000e+03, 4.6250e+03, 8.5000e+02, 7.5000e+02,\n",
       "       2.9750e+03, 1.1750e+03, 4.7500e+03, 3.7500e+02, 1.0250e+03,\n",
       "       1.2000e+03, 1.3250e+03, 7.2500e+02, 2.1000e+03, 3.4000e+03,\n",
       "       2.9000e+03, 4.2500e+02, 2.8500e+03, 4.2500e+03, 5.0000e+02,\n",
       "       1.2250e+03, 2.7500e+03, 1.6250e+03, 1.4750e+03, 2.1250e+03,\n",
       "       4.1750e+03, 2.5000e+03, 1.7000e+03, 1.0000e+04, 5.1000e+03,\n",
       "       6.7500e+02, 5.2500e+02, 3.8000e+03, 4.5000e+03, 6.5000e+02,\n",
       "       1.8500e+03, 1.5250e+03, 2.4250e+03, 7.7500e+02, 1.5750e+03,\n",
       "       1.0500e+03, 1.4500e+03, 2.4500e+03, 1.9250e+03, 1.8000e+03,\n",
       "       5.9250e+03, 2.6500e+03, 4.3000e+03, 1.0000e+02, 9.5000e+02,\n",
       "       2.3500e+03, 2.5500e+03, 1.1000e+03, 9.0000e+02, 2.2500e+03,\n",
       "       5.4500e+03, 1.7500e+03, 3.0250e+03, 4.9000e+03, 1.2750e+03,\n",
       "       2.6000e+03, 5.1500e+03, 1.8750e+03, 2.5250e+03, 1.6500e+03,\n",
       "       3.9250e+03, 4.5750e+03, 1.3500e+03, 1.4000e+03, 4.4750e+03,\n",
       "       3.9000e+03, 1.9750e+03, 8.2500e+02, 2.0250e+03, 5.8500e+03,\n",
       "       4.4500e+03, 2.4750e+03, 1.6750e+03, 2.0750e+03, 1.4250e+03,\n",
       "       5.6250e+03, 7.5000e+01, 1.1250e+03, 1.9000e+03, 1.3750e+03,\n",
       "       3.4250e+03, 1.6000e+03, 3.5250e+03, 2.7000e+03, 5.0750e+03,\n",
       "       2.0500e+03, 3.8250e+03, 2.8000e+03, 2.3000e+03, 3.3000e+03,\n",
       "       9.7500e+02, 5.5250e+03, 5.3500e+03, 5.0250e+03, 4.2000e+03,\n",
       "       2.3250e+03, 1.7750e+03, 4.4000e+03, 3.6500e+03, 3.9500e+03,\n",
       "       6.6250e+03, 5.0000e+01, 3.7750e+03, 2.1500e+03, 3.6250e+03,\n",
       "       3.4750e+03, 3.1250e+03, 3.5000e+03, 8.0000e+03, 6.0500e+03,\n",
       "       1.9500e+03, 3.2000e+03, 3.8500e+03, 2.3750e+03, 2.7250e+03,\n",
       "       2.2750e+03, 2.6750e+03, 4.0250e+03, 2.8750e+03, 2.9250e+03,\n",
       "       6.6500e+03, 1.7250e+03, 2.9500e+03, 1.8250e+03, 4.8750e+03,\n",
       "       5.3250e+03, 4.8500e+03, 3.0750e+03, 3.2750e+03, 3.7250e+03,\n",
       "       3.1000e+03, 5.8250e+03, 4.7750e+03, 3.5750e+03, 5.2000e+03,\n",
       "       2.8250e+03, 5.8750e+03, 6.0250e+03, 4.6500e+03, 9.6000e+03,\n",
       "       5.7500e+03, 4.9250e+03, 7.8000e+03, 4.1000e+03, 3.6750e+03,\n",
       "       5.7000e+03, 5.3000e+03, 2.1750e+03, 3.7500e+03, 5.2750e+03,\n",
       "       3.3250e+03, 5.5500e+03, 3.3750e+03, 4.6000e+03, 4.9500e+03,\n",
       "       9.4500e+03, 4.9750e+03, 6.3500e+03, 3.4500e+03, 7.9500e+03,\n",
       "       7.5000e+03, 6.1000e+03, 3.6000e+03, 2.5750e+03, 3.2250e+03,\n",
       "       9.9750e+03, 4.3500e+03, 7.0000e+03, 4.2250e+03, 5.5750e+03,\n",
       "       4.8000e+03, 8.1250e+03, 3.2500e+03, 6.3250e+03, 5.9000e+03,\n",
       "       5.6750e+03, 5.2250e+03, 5.7250e+03, 6.6000e+03, 3.7000e+03,\n",
       "       4.3750e+03, 5.4250e+03, 4.5500e+03, 6.2250e+03, 5.0500e+03,\n",
       "       5.2500e+03, 5.9500e+03, 3.8750e+03, 6.5000e+03, 3.5500e+03,\n",
       "       6.0000e+03, 6.2500e+03, 2.6250e+03, 4.0750e+03, 4.7000e+03,\n",
       "       5.3750e+03, 3.3500e+03, 5.1750e+03, 5.1250e+03, 7.1250e+03,\n",
       "       9.0000e+03, 6.2750e+03, 6.4000e+03, 4.4250e+03, 3.1500e+03,\n",
       "       9.6250e+03, 4.3250e+03, 1.2925e+04, 6.4250e+03, 8.1500e+03,\n",
       "       7.5250e+03, 7.1000e+03, 8.1000e+03, 4.1500e+03, 6.1500e+03,\n",
       "       9.9500e+03, 4.8250e+03, 6.3750e+03, 4.6750e+03, 4.1250e+03,\n",
       "       5.5000e+03, 7.4250e+03, 5.6500e+03, 7.9750e+03, 6.5250e+03,\n",
       "       6.4750e+03, 7.8750e+03, 6.1750e+03, 7.4000e+03, 4.7250e+03,\n",
       "       4.0500e+03, 5.6000e+03, 5.8000e+03, 5.9750e+03, 4.5250e+03,\n",
       "       6.8000e+03, 9.5750e+03, 7.2000e+03, 8.6750e+03, 6.1250e+03,\n",
       "       8.3750e+03, 9.7000e+03, 6.7250e+03, 7.3500e+03, 9.5000e+03,\n",
       "       9.1750e+03, 6.4500e+03, 9.5250e+03, 8.2000e+03, 6.2000e+03,\n",
       "       2.5000e+01, 8.1750e+03, 7.5500e+03, 9.2000e+03, 8.6000e+03,\n",
       "       9.3000e+03, 6.7000e+03, 7.7000e+03, 7.6750e+03, 8.4250e+03,\n",
       "       7.0250e+03, 7.3750e+03, 6.5750e+03, 7.6250e+03, 7.5750e+03,\n",
       "       9.8500e+03, 9.3250e+03, 6.7500e+03, 7.0500e+03, 1.0150e+04,\n",
       "       6.0750e+03, 1.1650e+04, 6.8750e+03, 1.1775e+04, 8.7500e+03,\n",
       "       9.2750e+03, 7.7500e+03, 6.6750e+03, 5.0000e+04, 6.7750e+03,\n",
       "       7.2750e+03, 1.1575e+04, 6.9500e+03, 8.0250e+03, 2.0000e+04,\n",
       "       9.9000e+03, 7.6000e+03, 1.4725e+04, 6.9000e+03, 2.5000e+04,\n",
       "       1.5000e+04, 5.4000e+03, 7.3000e+03, 8.5000e+03, 9.6750e+03,\n",
       "       9.7500e+03, 7.6500e+03, 7.1500e+03, 7.9000e+03, 1.3975e+04,\n",
       "       8.7000e+03, 7.4750e+03, 6.9250e+03, 8.0500e+03, 9.9250e+03,\n",
       "       7.3250e+03, 6.3000e+03, 8.2250e+03, 9.2500e+03, 8.9750e+03,\n",
       "       9.5500e+03, 9.3500e+03, 8.4000e+03, 9.1000e+03, 1.3425e+04,\n",
       "       8.8000e+03, 1.2000e+04, 7.9250e+03, 1.0000e+05, 7.2500e+03,\n",
       "       8.2750e+03, 8.9000e+03, 7.0750e+03, 9.1250e+03, 8.7750e+03,\n",
       "       9.0250e+03, 9.8000e+03, 8.4750e+03, 7.8500e+03, 9.7250e+03,\n",
       "       7.7250e+03, 1.2325e+04, 1.6350e+04, 1.3600e+04, 1.6825e+04,\n",
       "       7.4500e+03, 1.3025e+04, 1.8325e+04, 7.7750e+03, 1.2825e+04,\n",
       "       1.7650e+04, 8.5250e+03, 6.5500e+03, 1.0625e+04, 1.2700e+04,\n",
       "       1.4700e+04, 8.0750e+03, 6.9750e+03, 1.1025e+04, 1.3825e+04,\n",
       "       6.8250e+03, 8.8500e+03, 7.1750e+03, 1.0100e+04, 2.5500e+04,\n",
       "       2.6750e+04, 2.9050e+04, 2.7000e+04, 8.9500e+03, 9.1500e+03,\n",
       "       3.5000e+04, 7.8250e+03, 6.8500e+03, 8.3000e+03, 1.3875e+04,\n",
       "       8.3250e+03, 4.1700e+04, 9.2250e+03, 4.9250e+04, 8.4500e+03,\n",
       "       9.4750e+03, 8.3500e+03, 9.8750e+03, 9.8250e+03, 8.5750e+03,\n",
       "       9.0500e+03, 9.4250e+03, 8.9250e+03, 4.9950e+04, 8.2500e+03,\n",
       "       3.0000e+04, 8.5500e+03, 2.4000e+04, 1.5300e+04, 1.0125e+04,\n",
       "       1.2475e+04, 4.9925e+04, 1.0275e+04, 1.6275e+04, 8.8250e+03,\n",
       "       7.2250e+03, 1.3275e+04, 8.8750e+03, 4.0000e+04, 9.0750e+03,\n",
       "       9.4000e+03, 9.3750e+03, 1.1000e+04, 1.1875e+04, 1.4500e+04,\n",
       "       1.1250e+04, 8.6500e+03, 8.6250e+03, 4.2325e+04, 1.2400e+04,\n",
       "       1.2750e+04, 1.5400e+04, 9.7750e+03, 1.6400e+04, 8.7250e+03,\n",
       "       1.6675e+04, 1.0425e+04, 1.5600e+04, 1.0200e+04, 3.0100e+04,\n",
       "       1.3050e+04, 4.9750e+04, 4.9400e+04, 3.2000e+04, 1.4675e+04,\n",
       "       1.0400e+04, 1.0550e+04, 2.4450e+04, 1.2375e+04, 1.3000e+04,\n",
       "       1.5750e+04, 1.0025e+04, 1.5475e+04, 1.7500e+04, 1.6975e+04,\n",
       "       1.7475e+04, 3.6000e+04, 1.4300e+04, 1.2025e+04])"
      ]
     },
     "execution_count": 23,
     "metadata": {},
     "output_type": "execute_result"
    }
   ],
   "source": [
    "df_duplicate_dropped.loc[:,'loan_amount'].unique()"
   ]
  },
  {
   "cell_type": "code",
   "execution_count": 24,
   "id": "54a8e037",
   "metadata": {},
   "outputs": [
    {
     "data": {
      "text/plain": [
       "array(['Fruits & Vegetables', 'Rickshaw', 'Transportation', 'Embroidery',\n",
       "       'Milk Sales', 'Services', 'Dairy', 'Beauty Salon', 'Manufacturing',\n",
       "       'Food Production/Sales', 'Wholesale', 'General Store',\n",
       "       'Clothing Sales', 'Poultry', 'Tailoring', 'Sewing', 'Bakery',\n",
       "       'Restaurant', 'Food Stall', 'Farming', 'Construction Supplies',\n",
       "       'Personal Products Sales', 'Home Products Sales',\n",
       "       'Natural Medicines', 'Fish Selling', 'Education provider',\n",
       "       'Shoe Sales', 'Machinery Rental', 'Butcher Shop', 'Pigs',\n",
       "       'Personal Expenses', 'Food Market', 'Cosmetics Sales',\n",
       "       'Personal Housing Expenses', 'Retail', 'Energy', 'Grocery Store',\n",
       "       'Construction', 'Agriculture', 'Motorcycle Transport',\n",
       "       'Charcoal Sales', 'Food', 'Pharmacy', 'Fishing', 'Timber Sales',\n",
       "       'Cattle', 'Electronics Repair', 'Electronics Sales', 'Vehicle',\n",
       "       'Cafe', 'Blacksmith', 'Higher education costs', 'Used Clothing',\n",
       "       'Fuel/Firewood', 'Upholstery', 'Catering', 'Animal Sales',\n",
       "       'Cereals', 'Vehicle Repairs', 'Arts',\n",
       "       'Cloth & Dressmaking Supplies', 'Mobile Phones', 'Spare Parts',\n",
       "       'Clothing', 'Metal Shop', 'Barber Shop', 'Furniture Making',\n",
       "       'Crafts', 'Home Energy', 'Home Appliances', 'Wedding Expenses',\n",
       "       'Taxi', 'Secretarial Services', 'Livestock', 'Property',\n",
       "       'Recycling', 'Farm Supplies', 'Auto Repair', 'Beverages',\n",
       "       'Plastics Sales', 'Electrical Goods', 'Carpentry', 'Photography',\n",
       "       'Jewelry', 'Bricks', 'Pub', 'Phone Use Sales',\n",
       "       'Water Distribution', 'Paper Sales', 'Computers',\n",
       "       'Liquor Store / Off-License', 'Utilities', 'Knitting', 'Weaving',\n",
       "       'Party Supplies', 'Medical Clinic', 'Internet Cafe',\n",
       "       'Consumer Goods', 'Cement', 'Electrician',\n",
       "       'Primary/secondary school costs', 'Veterinary Sales',\n",
       "       'Land Rental', 'Laundry', 'Call Center', 'Perfumes', 'Hotel',\n",
       "       'Motorcycle Repair', 'Movie Tapes & DVDs', 'Quarrying',\n",
       "       'Personal Medical Expenses', 'Bookstore', 'Decorations Sales',\n",
       "       'Recycled Materials', 'Office Supplies', 'Souvenir Sales',\n",
       "       'Renewable Energy Products', 'Health', 'Printing', 'Phone Repair',\n",
       "       'Traveling Sales', 'Flowers', 'Bicycle Repair', 'Entertainment',\n",
       "       'Phone Accessories', 'Hardware', 'Used Shoes',\n",
       "       'Music Discs & Tapes', 'Games', 'Balut-Making', 'Textiles',\n",
       "       'Child Care', 'Goods Distribution', 'Florist', 'Cobbler', 'Dental',\n",
       "       'Bookbinding', 'Cheese Making', 'Bicycle Sales', 'Well digging',\n",
       "       'Technology', 'Musical Performance', 'Waste Management', 'Film',\n",
       "       'Tourism', 'Musical Instruments', 'Religious Articles',\n",
       "       'Machine Shop', 'Cleaning Services', 'Sporting Good Sales',\n",
       "       'Patchwork', 'Funerals', 'Air Conditioning', 'Communications',\n",
       "       'Adult Care', 'Landscaping / Gardening', 'Aquaculture',\n",
       "       'Beekeeping', 'Event Planning', 'Celebrations', 'Computer',\n",
       "       'Personal Care Products', 'Mobile Transactions'], dtype=object)"
      ]
     },
     "execution_count": 24,
     "metadata": {},
     "output_type": "execute_result"
    }
   ],
   "source": [
    "df_duplicate_dropped.loc[:,'activity'].unique()"
   ]
  },
  {
   "cell_type": "code",
   "execution_count": 25,
   "id": "600d47fc",
   "metadata": {},
   "outputs": [
    {
     "data": {
      "text/plain": [
       "array(['Food', 'Transportation', 'Arts', 'Services', 'Agriculture',\n",
       "       'Manufacturing', 'Wholesale', 'Retail', 'Clothing', 'Construction',\n",
       "       'Health', 'Education', 'Personal Use', 'Housing', 'Entertainment'],\n",
       "      dtype=object)"
      ]
     },
     "execution_count": 25,
     "metadata": {},
     "output_type": "execute_result"
    }
   ],
   "source": [
    "df_duplicate_dropped.loc[:,'sector'].unique()"
   ]
  },
  {
   "cell_type": "code",
   "execution_count": 26,
   "id": "8786474f",
   "metadata": {},
   "outputs": [
    {
     "data": {
      "text/plain": [
       "array(['To buy seasonal, fresh fruits to sell.',\n",
       "       'to repair and maintain the auto rickshaw used in their business.',\n",
       "       'To repair their old cycle-van and buy another one to rent out as a source of income',\n",
       "       ...,\n",
       "       'Pretend the issue with loan got addressed by Kiva Coordinator.',\n",
       "       'Kiva Coordinator replaced loan use. Should see this in viewdiff.',\n",
       "       'Edited loan use in english.'], dtype=object)"
      ]
     },
     "execution_count": 26,
     "metadata": {},
     "output_type": "execute_result"
    }
   ],
   "source": [
    "df_duplicate_dropped.loc[:,'use'].unique()"
   ]
  },
  {
   "cell_type": "code",
   "execution_count": 27,
   "id": "ad2717ec",
   "metadata": {},
   "outputs": [
    {
     "data": {
      "text/plain": [
       "array(['PK', 'IN', 'KE', 'NI', 'SV', 'TZ', 'PH', 'PE', 'SN', 'KH', 'LR',\n",
       "       'VN', 'IQ', 'HN', 'PS', 'MN', 'US', 'ML', 'CO', 'TJ', 'GT', 'EC',\n",
       "       'BO', 'YE', 'GH', 'SL', 'HT', 'CL', 'JO', 'UG', 'BI', 'BF', 'TL',\n",
       "       'ID', 'GE', 'UA', 'XK', 'AL', 'CD', 'CR', 'SO', 'ZW', 'CM', 'TR',\n",
       "       'AZ', 'DO', 'BR', 'MX', 'KG', 'AM', 'PY', 'LB', 'WS', 'IL', 'RW',\n",
       "       'ZM', 'NP', 'CG', 'MZ', 'ZA', 'TG', 'BJ', 'BZ', 'SR', 'TH', 'NG',\n",
       "       'MR', 'VU', 'PA', 'VI', 'VC', 'LA', 'MW', 'MM', 'MD', 'SS', 'SB',\n",
       "       'CN', 'EG', 'GU', 'AF', 'MG', nan, 'PR', 'LS', 'CI', 'BT'],\n",
       "      dtype=object)"
      ]
     },
     "execution_count": 27,
     "metadata": {},
     "output_type": "execute_result"
    }
   ],
   "source": [
    "df_duplicate_dropped.loc[:,'country_code'].unique()"
   ]
  },
  {
   "cell_type": "code",
   "execution_count": 28,
   "id": "ac64365b",
   "metadata": {},
   "outputs": [
    {
     "data": {
      "text/plain": [
       "array(['Pakistan', 'India', 'Kenya', 'Nicaragua', 'El Salvador',\n",
       "       'Tanzania', 'Philippines', 'Peru', 'Senegal', 'Cambodia',\n",
       "       'Liberia', 'Vietnam', 'Iraq', 'Honduras', 'Palestine', 'Mongolia',\n",
       "       'United States', 'Mali', 'Colombia', 'Tajikistan', 'Guatemala',\n",
       "       'Ecuador', 'Bolivia', 'Yemen', 'Ghana', 'Sierra Leone', 'Haiti',\n",
       "       'Chile', 'Jordan', 'Uganda', 'Burundi', 'Burkina Faso',\n",
       "       'Timor-Leste', 'Indonesia', 'Georgia', 'Ukraine', 'Kosovo',\n",
       "       'Albania', 'The Democratic Republic of the Congo', 'Costa Rica',\n",
       "       'Somalia', 'Zimbabwe', 'Cameroon', 'Turkey', 'Azerbaijan',\n",
       "       'Dominican Republic', 'Brazil', 'Mexico', 'Kyrgyzstan', 'Armenia',\n",
       "       'Paraguay', 'Lebanon', 'Samoa', 'Israel', 'Rwanda', 'Zambia',\n",
       "       'Nepal', 'Congo', 'Mozambique', 'South Africa', 'Togo', 'Benin',\n",
       "       'Belize', 'Suriname', 'Thailand', 'Nigeria', 'Mauritania',\n",
       "       'Vanuatu', 'Panama', 'Virgin Islands',\n",
       "       'Saint Vincent and the Grenadines',\n",
       "       \"Lao People's Democratic Republic\", 'Malawi', 'Myanmar (Burma)',\n",
       "       'Moldova', 'South Sudan', 'Solomon Islands', 'China', 'Egypt',\n",
       "       'Guam', 'Afghanistan', 'Madagascar', 'Namibia', 'Puerto Rico',\n",
       "       'Lesotho', \"Cote D'Ivoire\", 'Bhutan'], dtype=object)"
      ]
     },
     "execution_count": 28,
     "metadata": {},
     "output_type": "execute_result"
    }
   ],
   "source": [
    "df_duplicate_dropped.loc[:,'country'].unique()"
   ]
  },
  {
   "cell_type": "code",
   "execution_count": 29,
   "id": "267d0694",
   "metadata": {},
   "outputs": [
    {
     "data": {
      "text/plain": [
       "array(['Lahore', 'Maynaguri', 'Abdul hakeem', ...,\n",
       "       'Chililique-san ignacio', 'Gbenikoro village', 'Morimaraia'],\n",
       "      dtype=object)"
      ]
     },
     "execution_count": 29,
     "metadata": {},
     "output_type": "execute_result"
    }
   ],
   "source": [
    "df_duplicate_dropped.loc[:,'region'].unique()"
   ]
  },
  {
   "cell_type": "code",
   "execution_count": 30,
   "id": "5f72cd14",
   "metadata": {},
   "outputs": [
    {
     "data": {
      "text/plain": [
       "array(['PKR', 'INR', 'KES', 'NIO', 'USD', 'TZS', 'PHP', 'PEN', 'XOF',\n",
       "       'LRD', 'VND', 'HNL', 'MNT', 'COP', 'GTQ', 'TJS', 'BOB', 'YER',\n",
       "       'KHR', 'GHS', 'SLL', 'HTG', 'CLP', 'JOD', 'UGX', 'BIF', 'IDR',\n",
       "       'GEL', 'UAH', 'EUR', 'ALL', 'CRC', 'XAF', 'TRY', 'AZN', 'DOP',\n",
       "       'BRL', 'MXN', 'KGS', 'AMD', 'PYG', 'LBP', 'WST', 'ILS', 'RWF',\n",
       "       'ZMW', 'NPR', 'MZN', 'ZAR', 'BZD', 'SRD', 'NGN', 'VUV', 'XCD',\n",
       "       'MWK', 'LAK', 'MMK', 'ZWD', 'MDL', 'SSP', 'SBD', 'CNY', 'EGP',\n",
       "       'MGA', 'NAD', 'LSL', 'THB'], dtype=object)"
      ]
     },
     "execution_count": 30,
     "metadata": {},
     "output_type": "execute_result"
    }
   ],
   "source": [
    "df_duplicate_dropped.loc[:,'currency'].unique()"
   ]
  },
  {
   "cell_type": "code",
   "execution_count": 31,
   "id": "70bb7747",
   "metadata": {},
   "outputs": [
    {
     "data": {
      "text/plain": [
       "array([ 12.,  11.,  43.,  14.,   4.,  13.,  10.,   8.,   5.,  20.,   7.,\n",
       "         3.,  17.,  15.,   9.,  39.,  23.,  26.,   6.,  30.,  22.,  25.,\n",
       "        27.,  16.,  52.,  18.,  36.,  19.,  28.,  62.,  32.,  24.,  21.,\n",
       "        50.,  38.,   2.,  35.,  72., 137.,   1.,  49.,  33.,  42.,  29.,\n",
       "        37.,  51., 113.,  79.,  31.,  44.,  74.,  34.,  48., 114.,  40.,\n",
       "       124., 104.,  63.,  85.,  78.,  70.,  86.,  61.,  60.,  67.,  55.,\n",
       "        53.,  41.,  68., 143.,  77., 130.,  45., 111., 134., 107., 142.,\n",
       "       148.,  56., 122., 133., 141., 110.,  81., 106.,  54., 147., 112.,\n",
       "        59., 145., 121., 109.,  80.,  47.,  97.,  75., 101., 128.,  98.,\n",
       "        87.,  71.,  66.,  46., 125.,  76.,  73., 120., 144., 118., 131.,\n",
       "        65., 108.,  58., 123.,  84.,  99.,  82.,  92.,  69.,  91.,  57.,\n",
       "        90.,  93., 129.,  89.,  88.,  64., 126., 138., 158.,  83., 100.,\n",
       "       105., 132.,  96., 127., 135.,  95., 154., 156.,  94., 115., 102.,\n",
       "       116., 136., 103., 139., 146.])"
      ]
     },
     "execution_count": 31,
     "metadata": {},
     "output_type": "execute_result"
    }
   ],
   "source": [
    "# All values are ints although data type is float. Convert to int later to save memory.\n",
    "df_duplicate_dropped.loc[:,'term_in_months'].unique()"
   ]
  },
  {
   "cell_type": "code",
   "execution_count": 32,
   "id": "67f9b746",
   "metadata": {},
   "outputs": [
    {
     "data": {
      "text/plain": [
       "array([  12,   14,    6,    8,   16,   19,   24,    3,   10,    7,    9,\n",
       "         11,   25,    4,   18,   13,   20,   17,    5,   58,   15,   93,\n",
       "          2,    1,  114,   32,  144,   26,   41,   71,  101,   21,   46,\n",
       "         34,   62,   98,   97,   92,  169,   40,   53,  154,   77,   22,\n",
       "        261,   35,   84,   38,   31,  152,   54,   37,  110,   43,  162,\n",
       "         28,   44,   39,   27,   50,   59,   60,   89,  116,   36,   49,\n",
       "         72,   23,   96,   86,  111,   52,   83,   51,  151,   63,  147,\n",
       "        280,  106,  171,  135,  161,  108,   48,   29,   47,   80,  173,\n",
       "         55,   45,   67,  102,   66,  134,   56,   75,   69,  158,   33,\n",
       "         30,  164,   65,  131,  273,   42,  166,  138,   82,   57,  107,\n",
       "         68,  174,  126,   88,   79,   90,  100,  130,   64,   70,   85,\n",
       "         94,  149,  150,  153,  163,   73,   74,  133,  120,   76,   87,\n",
       "        141,  200,   61,  132,  122,  245,  168,   81,  109,  112,  228,\n",
       "        105,  140,  117,  185,  104,   95,  103,  176,   99,  113,  143,\n",
       "        253,  127,   78,  129,  197,  306,  187,  184,  155,  328,  118,\n",
       "        128,   91,  189,  137,  123,  175,  115,  313,  254,    0,  244,\n",
       "        178,  252,  364,  142,  255,  195,  146,  199,  181,  213,  139,\n",
       "        124,  218,  223,  167,  148,  188,  193,  249,  165,  296,  125,\n",
       "        221,  341,  121,  170,  157,  226,  119,  281,  267,  408,  217,\n",
       "        219,  196,  172,  201,  270,  272,  156,  186,  136,  285,  268,\n",
       "        259,  222,  239,  190,  287,  224,  209,  210,  160,  194,  182,\n",
       "        177,  198,  286,  159,  180,  145,  202,  205,  183,  192,  276,\n",
       "        295,  206,  265,  230,  248,  238,  291,  283,  204,  211,  207,\n",
       "        203,  260,  266,  282,  297,  246,  336,  386,  372,  326,  356,\n",
       "        367,  317,  293,  343,  231,  305,  292,  366,  344,  191,  277,\n",
       "        179,  312,  398,  319,  413, 1446,  315,  262,  299,  457,  235,\n",
       "        229,  256,  284,  686,  354,  227,  487,  821,  517,  250,  251,\n",
       "        236,  300,  507,  294,  304,  232,  257,  233, 1491,  396,  404,\n",
       "        225,  338,  215,  623,  303,  212,  241,  274,  349,  237,  321,\n",
       "        307,  433,  339, 1581,  243,  345,  331,  379,  381,  240,  242,\n",
       "        288,  275,  419,  309,  258, 2986,  214,  755,  208,  375,  427,\n",
       "        216,  472,  320,  324,  335,  390,  333,  322,  566,  500,  577,\n",
       "        352,  642,  332,  363,  310,  329,  355,  382,  444,  234,  407,\n",
       "        478,  263,  298,  271,  302,  471,  348,  337,  823,  822,  503,\n",
       "        459,  828,  314,  586,  323,  278, 1138,  220,  426,  318,  864,\n",
       "       1297,  247,  395,  308, 1343,  654,  616,  289,  311,  393,  362,\n",
       "        368,  330,  264, 1605,  371,  347, 1167, 1302,  397,  919,  960,\n",
       "        342,  357,  761,  519,  301,  994,  488,  432, 1240,  406,  943,\n",
       "        376, 1229,  511,  316,  279, 1626, 1310,  605,  851,  439,  353,\n",
       "        951,  505,  334,  290, 1555,  697, 1062,  539,  346,  392, 1150,\n",
       "       1118, 1569,  518, 1481,  817, 1441, 1606,  973,  409,  738, 1097,\n",
       "        903, 1765,  901,  646,  327,  340, 1465, 1410,  839, 1550, 1067,\n",
       "        596, 1589,  726,  269, 1349,  762,  747, 1609,  985,  720, 1152,\n",
       "       1402, 1210, 1689,  380, 1330, 1671,  782,  853, 1519, 1094, 1688,\n",
       "       1564, 1170,  448,  556, 1706,  766,  563,  604, 1180,  588,  970,\n",
       "        521,  360,  551,  684,  447,  785,  805,  969], dtype=int64)"
      ]
     },
     "execution_count": 32,
     "metadata": {},
     "output_type": "execute_result"
    }
   ],
   "source": [
    "df_duplicate_dropped.loc[:,'lender_count'].unique()"
   ]
  },
  {
   "cell_type": "code",
   "execution_count": 33,
   "id": "5b5fcaf5",
   "metadata": {},
   "outputs": [
    {
     "data": {
      "text/plain": [
       "array(['female', 'female, female', 'female, female, female', ...,\n",
       "       'male, male, male, male, male, male, male, male, male, male, male, male, male, male, male, male, male, male, male, male',\n",
       "       'male, male, male, male, male, male, male, male, male, male, male, male, male, male, male, male, male, male, male, male, male, male',\n",
       "       nan], dtype=object)"
      ]
     },
     "execution_count": 33,
     "metadata": {},
     "output_type": "execute_result"
    }
   ],
   "source": [
    "# An indepth way to check whether there is an error in data here would be to take each entry, split values and \n",
    "# check whether it does not match female or male. \n",
    "df_duplicate_dropped.loc[:,'borrower_genders'].sort_values().unique()"
   ]
  },
  {
   "cell_type": "code",
   "execution_count": 34,
   "id": "7355160b",
   "metadata": {},
   "outputs": [
    {
     "data": {
      "text/plain": [
       "array(['irregular', 'bullet', 'monthly', 'weekly'], dtype=object)"
      ]
     },
     "execution_count": 34,
     "metadata": {},
     "output_type": "execute_result"
    }
   ],
   "source": [
    "df_duplicate_dropped.loc[:,'repayment_interval'].unique()"
   ]
  },
  {
   "cell_type": "markdown",
   "id": "d46abd5c",
   "metadata": {},
   "source": [
    "#### Total missing values\n",
    "\n",
    "Having not identified any synonyms for missing values, we can proceed with the predefined np.nan data."
   ]
  },
  {
   "cell_type": "code",
   "execution_count": 35,
   "id": "0e76fd29",
   "metadata": {},
   "outputs": [
    {
     "data": {
      "text/plain": [
       "funded_amount         0.000000\n",
       "loan_amount           0.000000\n",
       "activity              0.000000\n",
       "sector                0.000000\n",
       "use                   0.603911\n",
       "country_code          0.001239\n",
       "country               0.000000\n",
       "region                8.694831\n",
       "currency              0.000000\n",
       "term_in_months        0.000000\n",
       "lender_count          0.000000\n",
       "borrower_genders      0.602207\n",
       "repayment_interval    0.000000\n",
       "dtype: float64"
      ]
     },
     "execution_count": 35,
     "metadata": {},
     "output_type": "execute_result"
    }
   ],
   "source": [
    "df_duplicate_dropped.isnull().mean()*100"
   ]
  },
  {
   "cell_type": "markdown",
   "id": "55e4e858",
   "metadata": {},
   "source": [
    "#### How to handle the missing values"
   ]
  },
  {
   "cell_type": "markdown",
   "id": "e649ffda",
   "metadata": {},
   "source": [
    "**Column: use**\n",
    "\n",
    "Free text field. We cannot directly use this in an EDA or map on a graph. It would require an additional TextMining analysis that is outside of the scope for this project. As such I will drop the column. Sector/Activity will capture the larger picture of what is included in use while allowing us to conduct an EDA and plot data."
   ]
  },
  {
   "cell_type": "markdown",
   "id": "51999f52",
   "metadata": {},
   "source": [
    "**Column: country_code**\n",
    "\n",
    "Missing values from country_code can be filled by using information from country, since country is not missing any vaues, and the country's corresponding ISO code."
   ]
  },
  {
   "cell_type": "markdown",
   "id": "7f550fd5",
   "metadata": {},
   "source": [
    "**Column: region**\n",
    "\n",
    "8.7% of all loans are missing a region entry. As this is categorical data, we will replace the missing values with the most frequent region for each country."
   ]
  },
  {
   "cell_type": "code",
   "execution_count": 36,
   "id": "0cbd6745",
   "metadata": {
    "scrolled": true
   },
   "outputs": [
    {
     "data": {
      "text/plain": [
       "Thimphu    1\n",
       "Name: region, dtype: int64"
      ]
     },
     "execution_count": 36,
     "metadata": {},
     "output_type": "execute_result"
    }
   ],
   "source": [
    "df_duplicate_dropped.loc[df_duplicate_dropped.country==\"Bhutan\",'region'].value_counts()"
   ]
  },
  {
   "cell_type": "markdown",
   "id": "5779e3f5",
   "metadata": {},
   "source": [
    "However some countries do not have any entries with a region (Guam is an example, below). In this case we will use the country name as the region, as we cannot decern a finer granularity. "
   ]
  },
  {
   "cell_type": "code",
   "execution_count": 37,
   "id": "04760fb3",
   "metadata": {},
   "outputs": [
    {
     "data": {
      "text/plain": [
       "Series([], Name: region, dtype: int64)"
      ]
     },
     "execution_count": 37,
     "metadata": {},
     "output_type": "execute_result"
    }
   ],
   "source": [
    "df_duplicate_dropped.loc[df_duplicate_dropped.country==\"Guam\",'region'].value_counts()"
   ]
  },
  {
   "cell_type": "markdown",
   "id": "ad48bcb8",
   "metadata": {},
   "source": [
    "**Column: borrower_genders**\n",
    "\n",
    "Option 1: Take the mode of the group make up. Disadvantage is that the data is actually numerical, but currently can't be used as such because of the data structure used. This results in a loss of information, as we only take the most frequent result and ignore all other information available in the dataset (count of borrowers, count by gender). Better would be to include this information by use of mean or median. \n",
    "\n",
    "Option 2: Convert the data into a count of people per case. Doing this only for the total number of people in a group would lose the available information of gender. To retain all of the information available, I will create three columns:\n",
    "- male_borrower_count\n",
    "- female_borrower_count\n",
    "- borrower_count"
   ]
  },
  {
   "cell_type": "code",
   "execution_count": 38,
   "id": "121a7315",
   "metadata": {
    "scrolled": true
   },
   "outputs": [
    {
     "data": {
      "text/html": [
       "<div>\n",
       "<style scoped>\n",
       "    .dataframe tbody tr th:only-of-type {\n",
       "        vertical-align: middle;\n",
       "    }\n",
       "\n",
       "    .dataframe tbody tr th {\n",
       "        vertical-align: top;\n",
       "    }\n",
       "\n",
       "    .dataframe thead th {\n",
       "        text-align: right;\n",
       "    }\n",
       "</style>\n",
       "<table border=\"1\" class=\"dataframe\">\n",
       "  <thead>\n",
       "    <tr style=\"text-align: right;\">\n",
       "      <th></th>\n",
       "      <th>funded_amount</th>\n",
       "      <th>loan_amount</th>\n",
       "      <th>activity</th>\n",
       "      <th>sector</th>\n",
       "      <th>use</th>\n",
       "      <th>country_code</th>\n",
       "      <th>country</th>\n",
       "      <th>region</th>\n",
       "      <th>currency</th>\n",
       "      <th>term_in_months</th>\n",
       "      <th>lender_count</th>\n",
       "      <th>borrower_genders</th>\n",
       "      <th>repayment_interval</th>\n",
       "      <th>male_borrower_count</th>\n",
       "    </tr>\n",
       "  </thead>\n",
       "  <tbody>\n",
       "    <tr>\n",
       "      <th>0</th>\n",
       "      <td>300.0</td>\n",
       "      <td>300.0</td>\n",
       "      <td>Fruits &amp; Vegetables</td>\n",
       "      <td>Food</td>\n",
       "      <td>To buy seasonal, fresh fruits to sell.</td>\n",
       "      <td>PK</td>\n",
       "      <td>Pakistan</td>\n",
       "      <td>Lahore</td>\n",
       "      <td>PKR</td>\n",
       "      <td>12.0</td>\n",
       "      <td>12</td>\n",
       "      <td>female</td>\n",
       "      <td>irregular</td>\n",
       "      <td>0.0</td>\n",
       "    </tr>\n",
       "    <tr>\n",
       "      <th>1</th>\n",
       "      <td>575.0</td>\n",
       "      <td>575.0</td>\n",
       "      <td>Rickshaw</td>\n",
       "      <td>Transportation</td>\n",
       "      <td>to repair and maintain the auto rickshaw used ...</td>\n",
       "      <td>PK</td>\n",
       "      <td>Pakistan</td>\n",
       "      <td>Lahore</td>\n",
       "      <td>PKR</td>\n",
       "      <td>11.0</td>\n",
       "      <td>14</td>\n",
       "      <td>female, female</td>\n",
       "      <td>irregular</td>\n",
       "      <td>0.0</td>\n",
       "    </tr>\n",
       "  </tbody>\n",
       "</table>\n",
       "</div>"
      ],
      "text/plain": [
       "   funded_amount  loan_amount             activity          sector  \\\n",
       "0          300.0        300.0  Fruits & Vegetables            Food   \n",
       "1          575.0        575.0             Rickshaw  Transportation   \n",
       "\n",
       "                                                 use country_code   country  \\\n",
       "0             To buy seasonal, fresh fruits to sell.           PK  Pakistan   \n",
       "1  to repair and maintain the auto rickshaw used ...           PK  Pakistan   \n",
       "\n",
       "   region currency  term_in_months  lender_count borrower_genders  \\\n",
       "0  Lahore      PKR            12.0            12           female   \n",
       "1  Lahore      PKR            11.0            14   female, female   \n",
       "\n",
       "  repayment_interval  male_borrower_count  \n",
       "0          irregular                  0.0  \n",
       "1          irregular                  0.0  "
      ]
     },
     "execution_count": 38,
     "metadata": {},
     "output_type": "execute_result"
    }
   ],
   "source": [
    "# It would be better to use gender as an argument input however with the time available I was unable to make this \n",
    "# work while calling the function with .apply().\n",
    "def borrower_count_male(x):\n",
    "    counter = Counter(x.split(', '))\n",
    "    return counter['male']\n",
    "\n",
    "df_duplicate_dropped['male_borrower_count'] = df_duplicate_dropped.loc[df_duplicate_dropped['borrower_genders'].notnull(),'borrower_genders'].apply(func=borrower_count_male)\n",
    "df_duplicate_dropped.head(2)"
   ]
  },
  {
   "cell_type": "code",
   "execution_count": 39,
   "id": "5d064362",
   "metadata": {
    "scrolled": true
   },
   "outputs": [
    {
     "data": {
      "text/html": [
       "<div>\n",
       "<style scoped>\n",
       "    .dataframe tbody tr th:only-of-type {\n",
       "        vertical-align: middle;\n",
       "    }\n",
       "\n",
       "    .dataframe tbody tr th {\n",
       "        vertical-align: top;\n",
       "    }\n",
       "\n",
       "    .dataframe thead th {\n",
       "        text-align: right;\n",
       "    }\n",
       "</style>\n",
       "<table border=\"1\" class=\"dataframe\">\n",
       "  <thead>\n",
       "    <tr style=\"text-align: right;\">\n",
       "      <th></th>\n",
       "      <th>funded_amount</th>\n",
       "      <th>loan_amount</th>\n",
       "      <th>activity</th>\n",
       "      <th>sector</th>\n",
       "      <th>use</th>\n",
       "      <th>country_code</th>\n",
       "      <th>country</th>\n",
       "      <th>region</th>\n",
       "      <th>currency</th>\n",
       "      <th>term_in_months</th>\n",
       "      <th>lender_count</th>\n",
       "      <th>borrower_genders</th>\n",
       "      <th>repayment_interval</th>\n",
       "      <th>male_borrower_count</th>\n",
       "      <th>female_borrower_count</th>\n",
       "    </tr>\n",
       "  </thead>\n",
       "  <tbody>\n",
       "    <tr>\n",
       "      <th>0</th>\n",
       "      <td>300.0</td>\n",
       "      <td>300.0</td>\n",
       "      <td>Fruits &amp; Vegetables</td>\n",
       "      <td>Food</td>\n",
       "      <td>To buy seasonal, fresh fruits to sell.</td>\n",
       "      <td>PK</td>\n",
       "      <td>Pakistan</td>\n",
       "      <td>Lahore</td>\n",
       "      <td>PKR</td>\n",
       "      <td>12.0</td>\n",
       "      <td>12</td>\n",
       "      <td>female</td>\n",
       "      <td>irregular</td>\n",
       "      <td>0.0</td>\n",
       "      <td>1.0</td>\n",
       "    </tr>\n",
       "    <tr>\n",
       "      <th>1</th>\n",
       "      <td>575.0</td>\n",
       "      <td>575.0</td>\n",
       "      <td>Rickshaw</td>\n",
       "      <td>Transportation</td>\n",
       "      <td>to repair and maintain the auto rickshaw used ...</td>\n",
       "      <td>PK</td>\n",
       "      <td>Pakistan</td>\n",
       "      <td>Lahore</td>\n",
       "      <td>PKR</td>\n",
       "      <td>11.0</td>\n",
       "      <td>14</td>\n",
       "      <td>female, female</td>\n",
       "      <td>irregular</td>\n",
       "      <td>0.0</td>\n",
       "      <td>2.0</td>\n",
       "    </tr>\n",
       "  </tbody>\n",
       "</table>\n",
       "</div>"
      ],
      "text/plain": [
       "   funded_amount  loan_amount             activity          sector  \\\n",
       "0          300.0        300.0  Fruits & Vegetables            Food   \n",
       "1          575.0        575.0             Rickshaw  Transportation   \n",
       "\n",
       "                                                 use country_code   country  \\\n",
       "0             To buy seasonal, fresh fruits to sell.           PK  Pakistan   \n",
       "1  to repair and maintain the auto rickshaw used ...           PK  Pakistan   \n",
       "\n",
       "   region currency  term_in_months  lender_count borrower_genders  \\\n",
       "0  Lahore      PKR            12.0            12           female   \n",
       "1  Lahore      PKR            11.0            14   female, female   \n",
       "\n",
       "  repayment_interval  male_borrower_count  female_borrower_count  \n",
       "0          irregular                  0.0                    1.0  \n",
       "1          irregular                  0.0                    2.0  "
      ]
     },
     "execution_count": 39,
     "metadata": {},
     "output_type": "execute_result"
    }
   ],
   "source": [
    "def borrower_count_female(x):\n",
    "    counter = Counter(x.split(', '))\n",
    "    return counter['female']\n",
    "\n",
    "df_duplicate_dropped['female_borrower_count'] = df_duplicate_dropped.loc[df_duplicate_dropped['borrower_genders'].notnull(),'borrower_genders'].apply(func=borrower_count_female)\n",
    "df_duplicate_dropped.head(2)"
   ]
  },
  {
   "cell_type": "markdown",
   "id": "f1cca9c5",
   "metadata": {},
   "source": [
    "#### Handle the missing values\n",
    "**Drop column 'use'**"
   ]
  },
  {
   "cell_type": "code",
   "execution_count": 40,
   "id": "adaac403",
   "metadata": {},
   "outputs": [
    {
     "data": {
      "text/html": [
       "<div>\n",
       "<style scoped>\n",
       "    .dataframe tbody tr th:only-of-type {\n",
       "        vertical-align: middle;\n",
       "    }\n",
       "\n",
       "    .dataframe tbody tr th {\n",
       "        vertical-align: top;\n",
       "    }\n",
       "\n",
       "    .dataframe thead th {\n",
       "        text-align: right;\n",
       "    }\n",
       "</style>\n",
       "<table border=\"1\" class=\"dataframe\">\n",
       "  <thead>\n",
       "    <tr style=\"text-align: right;\">\n",
       "      <th></th>\n",
       "      <th>funded_amount</th>\n",
       "      <th>loan_amount</th>\n",
       "      <th>activity</th>\n",
       "      <th>sector</th>\n",
       "      <th>country_code</th>\n",
       "      <th>country</th>\n",
       "      <th>region</th>\n",
       "      <th>currency</th>\n",
       "      <th>term_in_months</th>\n",
       "      <th>lender_count</th>\n",
       "      <th>borrower_genders</th>\n",
       "      <th>repayment_interval</th>\n",
       "      <th>male_borrower_count</th>\n",
       "      <th>female_borrower_count</th>\n",
       "    </tr>\n",
       "  </thead>\n",
       "  <tbody>\n",
       "    <tr>\n",
       "      <th>0</th>\n",
       "      <td>300.0</td>\n",
       "      <td>300.0</td>\n",
       "      <td>Fruits &amp; Vegetables</td>\n",
       "      <td>Food</td>\n",
       "      <td>PK</td>\n",
       "      <td>Pakistan</td>\n",
       "      <td>Lahore</td>\n",
       "      <td>PKR</td>\n",
       "      <td>12.0</td>\n",
       "      <td>12</td>\n",
       "      <td>female</td>\n",
       "      <td>irregular</td>\n",
       "      <td>0.0</td>\n",
       "      <td>1.0</td>\n",
       "    </tr>\n",
       "    <tr>\n",
       "      <th>1</th>\n",
       "      <td>575.0</td>\n",
       "      <td>575.0</td>\n",
       "      <td>Rickshaw</td>\n",
       "      <td>Transportation</td>\n",
       "      <td>PK</td>\n",
       "      <td>Pakistan</td>\n",
       "      <td>Lahore</td>\n",
       "      <td>PKR</td>\n",
       "      <td>11.0</td>\n",
       "      <td>14</td>\n",
       "      <td>female, female</td>\n",
       "      <td>irregular</td>\n",
       "      <td>0.0</td>\n",
       "      <td>2.0</td>\n",
       "    </tr>\n",
       "  </tbody>\n",
       "</table>\n",
       "</div>"
      ],
      "text/plain": [
       "   funded_amount  loan_amount             activity          sector  \\\n",
       "0          300.0        300.0  Fruits & Vegetables            Food   \n",
       "1          575.0        575.0             Rickshaw  Transportation   \n",
       "\n",
       "  country_code   country  region currency  term_in_months  lender_count  \\\n",
       "0           PK  Pakistan  Lahore      PKR            12.0            12   \n",
       "1           PK  Pakistan  Lahore      PKR            11.0            14   \n",
       "\n",
       "  borrower_genders repayment_interval  male_borrower_count  \\\n",
       "0           female          irregular                  0.0   \n",
       "1   female, female          irregular                  0.0   \n",
       "\n",
       "   female_borrower_count  \n",
       "0                    1.0  \n",
       "1                    2.0  "
      ]
     },
     "execution_count": 40,
     "metadata": {},
     "output_type": "execute_result"
    }
   ],
   "source": [
    "df_fix_missing_values = df_duplicate_dropped.drop('use', axis=1)\n",
    "df_fix_missing_values.head(2)"
   ]
  },
  {
   "cell_type": "markdown",
   "id": "8db32591",
   "metadata": {},
   "source": [
    "**Fill column 'country_code'**"
   ]
  },
  {
   "cell_type": "code",
   "execution_count": 41,
   "id": "58e95258",
   "metadata": {
    "scrolled": false
   },
   "outputs": [
    {
     "data": {
      "text/html": [
       "<div>\n",
       "<style scoped>\n",
       "    .dataframe tbody tr th:only-of-type {\n",
       "        vertical-align: middle;\n",
       "    }\n",
       "\n",
       "    .dataframe tbody tr th {\n",
       "        vertical-align: top;\n",
       "    }\n",
       "\n",
       "    .dataframe thead th {\n",
       "        text-align: right;\n",
       "    }\n",
       "</style>\n",
       "<table border=\"1\" class=\"dataframe\">\n",
       "  <thead>\n",
       "    <tr style=\"text-align: right;\">\n",
       "      <th></th>\n",
       "      <th>country_code</th>\n",
       "      <th>country</th>\n",
       "    </tr>\n",
       "  </thead>\n",
       "  <tbody>\n",
       "    <tr>\n",
       "      <th>198207</th>\n",
       "      <td>NaN</td>\n",
       "      <td>Namibia</td>\n",
       "    </tr>\n",
       "    <tr>\n",
       "      <th>198484</th>\n",
       "      <td>NaN</td>\n",
       "      <td>Namibia</td>\n",
       "    </tr>\n",
       "    <tr>\n",
       "      <th>337295</th>\n",
       "      <td>NaN</td>\n",
       "      <td>Namibia</td>\n",
       "    </tr>\n",
       "    <tr>\n",
       "      <th>343434</th>\n",
       "      <td>NaN</td>\n",
       "      <td>Namibia</td>\n",
       "    </tr>\n",
       "    <tr>\n",
       "      <th>411205</th>\n",
       "      <td>NaN</td>\n",
       "      <td>Namibia</td>\n",
       "    </tr>\n",
       "    <tr>\n",
       "      <th>411463</th>\n",
       "      <td>NaN</td>\n",
       "      <td>Namibia</td>\n",
       "    </tr>\n",
       "    <tr>\n",
       "      <th>473973</th>\n",
       "      <td>NaN</td>\n",
       "      <td>Namibia</td>\n",
       "    </tr>\n",
       "    <tr>\n",
       "      <th>474400</th>\n",
       "      <td>NaN</td>\n",
       "      <td>Namibia</td>\n",
       "    </tr>\n",
       "  </tbody>\n",
       "</table>\n",
       "</div>"
      ],
      "text/plain": [
       "       country_code  country\n",
       "198207          NaN  Namibia\n",
       "198484          NaN  Namibia\n",
       "337295          NaN  Namibia\n",
       "343434          NaN  Namibia\n",
       "411205          NaN  Namibia\n",
       "411463          NaN  Namibia\n",
       "473973          NaN  Namibia\n",
       "474400          NaN  Namibia"
      ]
     },
     "execution_count": 41,
     "metadata": {},
     "output_type": "execute_result"
    }
   ],
   "source": [
    "# Namibia is the only country that is missing country_codes\n",
    "df_fix_missing_values.loc[df_fix_missing_values.country_code.isna()==True,'country_code':'country']"
   ]
  },
  {
   "cell_type": "code",
   "execution_count": 42,
   "id": "d9fe5ecf",
   "metadata": {
    "scrolled": false
   },
   "outputs": [
    {
     "data": {
      "text/html": [
       "<div>\n",
       "<style scoped>\n",
       "    .dataframe tbody tr th:only-of-type {\n",
       "        vertical-align: middle;\n",
       "    }\n",
       "\n",
       "    .dataframe tbody tr th {\n",
       "        vertical-align: top;\n",
       "    }\n",
       "\n",
       "    .dataframe thead th {\n",
       "        text-align: right;\n",
       "    }\n",
       "</style>\n",
       "<table border=\"1\" class=\"dataframe\">\n",
       "  <thead>\n",
       "    <tr style=\"text-align: right;\">\n",
       "      <th></th>\n",
       "      <th>country_code</th>\n",
       "      <th>country</th>\n",
       "    </tr>\n",
       "  </thead>\n",
       "  <tbody>\n",
       "    <tr>\n",
       "      <th>198207</th>\n",
       "      <td>NaN</td>\n",
       "      <td>Namibia</td>\n",
       "    </tr>\n",
       "    <tr>\n",
       "      <th>198484</th>\n",
       "      <td>NaN</td>\n",
       "      <td>Namibia</td>\n",
       "    </tr>\n",
       "    <tr>\n",
       "      <th>337295</th>\n",
       "      <td>NaN</td>\n",
       "      <td>Namibia</td>\n",
       "    </tr>\n",
       "    <tr>\n",
       "      <th>343434</th>\n",
       "      <td>NaN</td>\n",
       "      <td>Namibia</td>\n",
       "    </tr>\n",
       "    <tr>\n",
       "      <th>411205</th>\n",
       "      <td>NaN</td>\n",
       "      <td>Namibia</td>\n",
       "    </tr>\n",
       "    <tr>\n",
       "      <th>411463</th>\n",
       "      <td>NaN</td>\n",
       "      <td>Namibia</td>\n",
       "    </tr>\n",
       "    <tr>\n",
       "      <th>473973</th>\n",
       "      <td>NaN</td>\n",
       "      <td>Namibia</td>\n",
       "    </tr>\n",
       "    <tr>\n",
       "      <th>474400</th>\n",
       "      <td>NaN</td>\n",
       "      <td>Namibia</td>\n",
       "    </tr>\n",
       "  </tbody>\n",
       "</table>\n",
       "</div>"
      ],
      "text/plain": [
       "       country_code  country\n",
       "198207          NaN  Namibia\n",
       "198484          NaN  Namibia\n",
       "337295          NaN  Namibia\n",
       "343434          NaN  Namibia\n",
       "411205          NaN  Namibia\n",
       "411463          NaN  Namibia\n",
       "473973          NaN  Namibia\n",
       "474400          NaN  Namibia"
      ]
     },
     "execution_count": 42,
     "metadata": {},
     "output_type": "execute_result"
    }
   ],
   "source": [
    "# Tried to extract the country_code of Namibia via a non-missing row in the dataset, however all Namibia entries\n",
    "# have a np.nan value. \n",
    "df_fix_missing_values.loc[df_fix_missing_values.country=='Namibia','country_code':'country']"
   ]
  },
  {
   "cell_type": "code",
   "execution_count": 43,
   "id": "77314da1",
   "metadata": {
    "scrolled": true
   },
   "outputs": [
    {
     "data": {
      "text/html": [
       "<div>\n",
       "<style scoped>\n",
       "    .dataframe tbody tr th:only-of-type {\n",
       "        vertical-align: middle;\n",
       "    }\n",
       "\n",
       "    .dataframe tbody tr th {\n",
       "        vertical-align: top;\n",
       "    }\n",
       "\n",
       "    .dataframe thead th {\n",
       "        text-align: right;\n",
       "    }\n",
       "</style>\n",
       "<table border=\"1\" class=\"dataframe\">\n",
       "  <thead>\n",
       "    <tr style=\"text-align: right;\">\n",
       "      <th></th>\n",
       "      <th>country_code</th>\n",
       "      <th>country</th>\n",
       "    </tr>\n",
       "  </thead>\n",
       "  <tbody>\n",
       "  </tbody>\n",
       "</table>\n",
       "</div>"
      ],
      "text/plain": [
       "Empty DataFrame\n",
       "Columns: [country_code, country]\n",
       "Index: []"
      ]
     },
     "execution_count": 43,
     "metadata": {},
     "output_type": "execute_result"
    }
   ],
   "source": [
    "# Instead I had to source the ISO Alpha 2 code from the internet\n",
    "# Source: https://en.wikipedia.org/wiki/List_of_ISO_3166_country_codes\n",
    "df_fix_missing_values['country_code'].replace(to_replace=np.nan, value='NA', inplace=True)\n",
    "df_fix_missing_values.loc[df_fix_missing_values.country_code.isna()==True,'country_code':'country']"
   ]
  },
  {
   "cell_type": "markdown",
   "id": "0b46a350",
   "metadata": {},
   "source": [
    "**Fill column 'region'**"
   ]
  },
  {
   "cell_type": "code",
   "execution_count": 44,
   "id": "1d8a8ae0",
   "metadata": {},
   "outputs": [],
   "source": [
    "for country in df_fix_missing_values.loc[:, 'country'].unique():\n",
    "    mode_region = df_fix_missing_values.loc[df_fix_missing_values.country == country, 'region'].mode()\n",
    "    if mode_region.empty: # Per Guam example, need to catch conditions where a country has no region entry across dataset\n",
    "        df_fix_missing_values.loc[(df_fix_missing_values.country == country) & (df_fix_missing_values.region.isnull()), 'region'] = country\n",
    "    else: # replace with most common region in this country\n",
    "        df_fix_missing_values.loc[(df_fix_missing_values.country == country) & (df_fix_missing_values.region.isnull()), 'region'] = mode_region[0]"
   ]
  },
  {
   "cell_type": "markdown",
   "id": "6cb7743b",
   "metadata": {},
   "source": [
    "**Fill column 'borrower_genders'**"
   ]
  },
  {
   "cell_type": "code",
   "execution_count": 45,
   "id": "14828d92",
   "metadata": {},
   "outputs": [
    {
     "data": {
      "text/plain": [
       "count    641737.000000\n",
       "mean          0.415729\n",
       "std           1.136224\n",
       "min           0.000000\n",
       "25%           0.000000\n",
       "50%           0.000000\n",
       "75%           1.000000\n",
       "max          44.000000\n",
       "Name: male_borrower_count, dtype: float64"
      ]
     },
     "execution_count": 45,
     "metadata": {},
     "output_type": "execute_result"
    }
   ],
   "source": [
    "df_fix_missing_values['male_borrower_count'].describe()"
   ]
  },
  {
   "cell_type": "markdown",
   "id": "db801420",
   "metadata": {},
   "source": [
    "I use the median value to replace missing values due to the non-normal distribution of data in addition to extreme values."
   ]
  },
  {
   "cell_type": "code",
   "execution_count": 46,
   "id": "1c72c882",
   "metadata": {},
   "outputs": [],
   "source": [
    "male_borrower_median = df_fix_missing_values['male_borrower_count'].median()\n",
    "df_fix_missing_values['male_borrower_count'].replace(np.nan, male_borrower_median, inplace=True)"
   ]
  },
  {
   "cell_type": "code",
   "execution_count": 47,
   "id": "8ff27bc5",
   "metadata": {
    "scrolled": false
   },
   "outputs": [
    {
     "data": {
      "text/plain": [
       "count    641737.000000\n",
       "mean          1.613726\n",
       "std           3.088613\n",
       "min           0.000000\n",
       "25%           1.000000\n",
       "50%           1.000000\n",
       "75%           1.000000\n",
       "max          50.000000\n",
       "Name: female_borrower_count, dtype: float64"
      ]
     },
     "execution_count": 47,
     "metadata": {},
     "output_type": "execute_result"
    }
   ],
   "source": [
    "df_fix_missing_values['female_borrower_count'].describe()"
   ]
  },
  {
   "cell_type": "markdown",
   "id": "c4e4ea40",
   "metadata": {},
   "source": [
    "Again, I use the median value to replace missing values due to the non-normal distribution of data in addition to extreme values."
   ]
  },
  {
   "cell_type": "code",
   "execution_count": 48,
   "id": "4b63d801",
   "metadata": {},
   "outputs": [],
   "source": [
    "female_borrower_median = df_fix_missing_values['female_borrower_count'].median()\n",
    "df_fix_missing_values['female_borrower_count'].replace(np.nan, female_borrower_median, inplace=True)"
   ]
  },
  {
   "cell_type": "code",
   "execution_count": 49,
   "id": "11cb56d2",
   "metadata": {},
   "outputs": [
    {
     "data": {
      "text/html": [
       "<div>\n",
       "<style scoped>\n",
       "    .dataframe tbody tr th:only-of-type {\n",
       "        vertical-align: middle;\n",
       "    }\n",
       "\n",
       "    .dataframe tbody tr th {\n",
       "        vertical-align: top;\n",
       "    }\n",
       "\n",
       "    .dataframe thead th {\n",
       "        text-align: right;\n",
       "    }\n",
       "</style>\n",
       "<table border=\"1\" class=\"dataframe\">\n",
       "  <thead>\n",
       "    <tr style=\"text-align: right;\">\n",
       "      <th></th>\n",
       "      <th>funded_amount</th>\n",
       "      <th>loan_amount</th>\n",
       "      <th>activity</th>\n",
       "      <th>sector</th>\n",
       "      <th>country_code</th>\n",
       "      <th>country</th>\n",
       "      <th>region</th>\n",
       "      <th>currency</th>\n",
       "      <th>term_in_months</th>\n",
       "      <th>lender_count</th>\n",
       "      <th>borrower_genders</th>\n",
       "      <th>repayment_interval</th>\n",
       "      <th>male_borrower_count</th>\n",
       "      <th>female_borrower_count</th>\n",
       "      <th>total_borrower_count</th>\n",
       "    </tr>\n",
       "  </thead>\n",
       "  <tbody>\n",
       "    <tr>\n",
       "      <th>0</th>\n",
       "      <td>300.0</td>\n",
       "      <td>300.0</td>\n",
       "      <td>Fruits &amp; Vegetables</td>\n",
       "      <td>Food</td>\n",
       "      <td>PK</td>\n",
       "      <td>Pakistan</td>\n",
       "      <td>Lahore</td>\n",
       "      <td>PKR</td>\n",
       "      <td>12.0</td>\n",
       "      <td>12</td>\n",
       "      <td>female</td>\n",
       "      <td>irregular</td>\n",
       "      <td>0.0</td>\n",
       "      <td>1.0</td>\n",
       "      <td>1.0</td>\n",
       "    </tr>\n",
       "    <tr>\n",
       "      <th>1</th>\n",
       "      <td>575.0</td>\n",
       "      <td>575.0</td>\n",
       "      <td>Rickshaw</td>\n",
       "      <td>Transportation</td>\n",
       "      <td>PK</td>\n",
       "      <td>Pakistan</td>\n",
       "      <td>Lahore</td>\n",
       "      <td>PKR</td>\n",
       "      <td>11.0</td>\n",
       "      <td>14</td>\n",
       "      <td>female, female</td>\n",
       "      <td>irregular</td>\n",
       "      <td>0.0</td>\n",
       "      <td>2.0</td>\n",
       "      <td>2.0</td>\n",
       "    </tr>\n",
       "    <tr>\n",
       "      <th>2</th>\n",
       "      <td>150.0</td>\n",
       "      <td>150.0</td>\n",
       "      <td>Transportation</td>\n",
       "      <td>Transportation</td>\n",
       "      <td>IN</td>\n",
       "      <td>India</td>\n",
       "      <td>Maynaguri</td>\n",
       "      <td>INR</td>\n",
       "      <td>43.0</td>\n",
       "      <td>6</td>\n",
       "      <td>female</td>\n",
       "      <td>bullet</td>\n",
       "      <td>0.0</td>\n",
       "      <td>1.0</td>\n",
       "      <td>1.0</td>\n",
       "    </tr>\n",
       "    <tr>\n",
       "      <th>3</th>\n",
       "      <td>200.0</td>\n",
       "      <td>200.0</td>\n",
       "      <td>Embroidery</td>\n",
       "      <td>Arts</td>\n",
       "      <td>PK</td>\n",
       "      <td>Pakistan</td>\n",
       "      <td>Lahore</td>\n",
       "      <td>PKR</td>\n",
       "      <td>11.0</td>\n",
       "      <td>8</td>\n",
       "      <td>female</td>\n",
       "      <td>irregular</td>\n",
       "      <td>0.0</td>\n",
       "      <td>1.0</td>\n",
       "      <td>1.0</td>\n",
       "    </tr>\n",
       "    <tr>\n",
       "      <th>4</th>\n",
       "      <td>400.0</td>\n",
       "      <td>400.0</td>\n",
       "      <td>Milk Sales</td>\n",
       "      <td>Food</td>\n",
       "      <td>PK</td>\n",
       "      <td>Pakistan</td>\n",
       "      <td>Abdul hakeem</td>\n",
       "      <td>PKR</td>\n",
       "      <td>14.0</td>\n",
       "      <td>16</td>\n",
       "      <td>female</td>\n",
       "      <td>monthly</td>\n",
       "      <td>0.0</td>\n",
       "      <td>1.0</td>\n",
       "      <td>1.0</td>\n",
       "    </tr>\n",
       "    <tr>\n",
       "      <th>...</th>\n",
       "      <td>...</td>\n",
       "      <td>...</td>\n",
       "      <td>...</td>\n",
       "      <td>...</td>\n",
       "      <td>...</td>\n",
       "      <td>...</td>\n",
       "      <td>...</td>\n",
       "      <td>...</td>\n",
       "      <td>...</td>\n",
       "      <td>...</td>\n",
       "      <td>...</td>\n",
       "      <td>...</td>\n",
       "      <td>...</td>\n",
       "      <td>...</td>\n",
       "      <td>...</td>\n",
       "    </tr>\n",
       "    <tr>\n",
       "      <th>645620</th>\n",
       "      <td>0.0</td>\n",
       "      <td>25.0</td>\n",
       "      <td>Livestock</td>\n",
       "      <td>Agriculture</td>\n",
       "      <td>PY</td>\n",
       "      <td>Paraguay</td>\n",
       "      <td>Concepción</td>\n",
       "      <td>USD</td>\n",
       "      <td>13.0</td>\n",
       "      <td>0</td>\n",
       "      <td>female</td>\n",
       "      <td>monthly</td>\n",
       "      <td>0.0</td>\n",
       "      <td>1.0</td>\n",
       "      <td>1.0</td>\n",
       "    </tr>\n",
       "    <tr>\n",
       "      <th>645621</th>\n",
       "      <td>0.0</td>\n",
       "      <td>25.0</td>\n",
       "      <td>Livestock</td>\n",
       "      <td>Agriculture</td>\n",
       "      <td>PK</td>\n",
       "      <td>Pakistan</td>\n",
       "      <td>Attock</td>\n",
       "      <td>PKR</td>\n",
       "      <td>13.0</td>\n",
       "      <td>0</td>\n",
       "      <td>female</td>\n",
       "      <td>monthly</td>\n",
       "      <td>0.0</td>\n",
       "      <td>1.0</td>\n",
       "      <td>1.0</td>\n",
       "    </tr>\n",
       "    <tr>\n",
       "      <th>645622</th>\n",
       "      <td>0.0</td>\n",
       "      <td>125.0</td>\n",
       "      <td>Livestock</td>\n",
       "      <td>Agriculture</td>\n",
       "      <td>MX</td>\n",
       "      <td>Mexico</td>\n",
       "      <td>Iztacalco</td>\n",
       "      <td>MXN</td>\n",
       "      <td>13.0</td>\n",
       "      <td>0</td>\n",
       "      <td>female, female</td>\n",
       "      <td>monthly</td>\n",
       "      <td>0.0</td>\n",
       "      <td>2.0</td>\n",
       "      <td>2.0</td>\n",
       "    </tr>\n",
       "    <tr>\n",
       "      <th>645623</th>\n",
       "      <td>0.0</td>\n",
       "      <td>875.0</td>\n",
       "      <td>Livestock</td>\n",
       "      <td>Agriculture</td>\n",
       "      <td>BO</td>\n",
       "      <td>Bolivia</td>\n",
       "      <td>La paz</td>\n",
       "      <td>BOB</td>\n",
       "      <td>13.0</td>\n",
       "      <td>0</td>\n",
       "      <td>female, female</td>\n",
       "      <td>monthly</td>\n",
       "      <td>0.0</td>\n",
       "      <td>2.0</td>\n",
       "      <td>2.0</td>\n",
       "    </tr>\n",
       "    <tr>\n",
       "      <th>645624</th>\n",
       "      <td>0.0</td>\n",
       "      <td>250.0</td>\n",
       "      <td>Livestock</td>\n",
       "      <td>Agriculture</td>\n",
       "      <td>GH</td>\n",
       "      <td>Ghana</td>\n",
       "      <td>Dansoman</td>\n",
       "      <td>GHS</td>\n",
       "      <td>13.0</td>\n",
       "      <td>0</td>\n",
       "      <td>female</td>\n",
       "      <td>monthly</td>\n",
       "      <td>0.0</td>\n",
       "      <td>1.0</td>\n",
       "      <td>1.0</td>\n",
       "    </tr>\n",
       "  </tbody>\n",
       "</table>\n",
       "<p>645625 rows × 15 columns</p>\n",
       "</div>"
      ],
      "text/plain": [
       "        funded_amount  loan_amount             activity          sector  \\\n",
       "0               300.0        300.0  Fruits & Vegetables            Food   \n",
       "1               575.0        575.0             Rickshaw  Transportation   \n",
       "2               150.0        150.0       Transportation  Transportation   \n",
       "3               200.0        200.0           Embroidery            Arts   \n",
       "4               400.0        400.0           Milk Sales            Food   \n",
       "...               ...          ...                  ...             ...   \n",
       "645620            0.0         25.0            Livestock     Agriculture   \n",
       "645621            0.0         25.0            Livestock     Agriculture   \n",
       "645622            0.0        125.0            Livestock     Agriculture   \n",
       "645623            0.0        875.0            Livestock     Agriculture   \n",
       "645624            0.0        250.0            Livestock     Agriculture   \n",
       "\n",
       "       country_code   country        region currency  term_in_months  \\\n",
       "0                PK  Pakistan        Lahore      PKR            12.0   \n",
       "1                PK  Pakistan        Lahore      PKR            11.0   \n",
       "2                IN     India     Maynaguri      INR            43.0   \n",
       "3                PK  Pakistan        Lahore      PKR            11.0   \n",
       "4                PK  Pakistan  Abdul hakeem      PKR            14.0   \n",
       "...             ...       ...           ...      ...             ...   \n",
       "645620           PY  Paraguay    Concepción      USD            13.0   \n",
       "645621           PK  Pakistan        Attock      PKR            13.0   \n",
       "645622           MX    Mexico     Iztacalco      MXN            13.0   \n",
       "645623           BO   Bolivia        La paz      BOB            13.0   \n",
       "645624           GH     Ghana      Dansoman      GHS            13.0   \n",
       "\n",
       "        lender_count borrower_genders repayment_interval  male_borrower_count  \\\n",
       "0                 12           female          irregular                  0.0   \n",
       "1                 14   female, female          irregular                  0.0   \n",
       "2                  6           female             bullet                  0.0   \n",
       "3                  8           female          irregular                  0.0   \n",
       "4                 16           female            monthly                  0.0   \n",
       "...              ...              ...                ...                  ...   \n",
       "645620             0           female            monthly                  0.0   \n",
       "645621             0           female            monthly                  0.0   \n",
       "645622             0   female, female            monthly                  0.0   \n",
       "645623             0   female, female            monthly                  0.0   \n",
       "645624             0           female            monthly                  0.0   \n",
       "\n",
       "        female_borrower_count  total_borrower_count  \n",
       "0                         1.0                   1.0  \n",
       "1                         2.0                   2.0  \n",
       "2                         1.0                   1.0  \n",
       "3                         1.0                   1.0  \n",
       "4                         1.0                   1.0  \n",
       "...                       ...                   ...  \n",
       "645620                    1.0                   1.0  \n",
       "645621                    1.0                   1.0  \n",
       "645622                    2.0                   2.0  \n",
       "645623                    2.0                   2.0  \n",
       "645624                    1.0                   1.0  \n",
       "\n",
       "[645625 rows x 15 columns]"
      ]
     },
     "execution_count": 49,
     "metadata": {},
     "output_type": "execute_result"
    }
   ],
   "source": [
    "# The total borrow count is then calculated for all rows by summing male and female borrower counts.\n",
    "df_fix_missing_values[\"total_borrower_count\"] = (\n",
    "    df_fix_missing_values[\"male_borrower_count\"]\n",
    "    + df_fix_missing_values[\"female_borrower_count\"]\n",
    ")\n",
    "\n",
    "df_fix_missing_values"
   ]
  },
  {
   "cell_type": "code",
   "execution_count": 50,
   "id": "73333b3b",
   "metadata": {
    "scrolled": false
   },
   "outputs": [],
   "source": [
    "# We no longer need the borrower_genders column as the informationed is retained in other columns.\n",
    "# We drop the column to reduce the memory footprint. \n",
    "df_fix_missing_values.drop('borrower_genders', axis=1, inplace=True)"
   ]
  },
  {
   "cell_type": "markdown",
   "id": "c85b57ef",
   "metadata": {},
   "source": [
    "Final check that all missing values have been handled"
   ]
  },
  {
   "cell_type": "code",
   "execution_count": 51,
   "id": "21353d3c",
   "metadata": {},
   "outputs": [
    {
     "data": {
      "text/plain": [
       "funded_amount            0.0\n",
       "loan_amount              0.0\n",
       "activity                 0.0\n",
       "sector                   0.0\n",
       "country_code             0.0\n",
       "country                  0.0\n",
       "region                   0.0\n",
       "currency                 0.0\n",
       "term_in_months           0.0\n",
       "lender_count             0.0\n",
       "repayment_interval       0.0\n",
       "male_borrower_count      0.0\n",
       "female_borrower_count    0.0\n",
       "total_borrower_count     0.0\n",
       "dtype: float64"
      ]
     },
     "execution_count": 51,
     "metadata": {},
     "output_type": "execute_result"
    }
   ],
   "source": [
    "df_fix_missing_values.isnull().mean()*100"
   ]
  },
  {
   "cell_type": "markdown",
   "id": "cf213e90",
   "metadata": {},
   "source": [
    "### Outliers / Extreme Values\n"
   ]
  },
  {
   "cell_type": "markdown",
   "id": "f168d66f",
   "metadata": {},
   "source": [
    "Here it must be checked whether the data lie within the framework in which the company moves.\n",
    "\n",
    "**funded_amount**\n",
    "\n",
    "The funded amount must be less than or equal to the loan amount. This was checked during the data quality checks and cases were caught, handled and passed to the relevant teams.\n",
    "\n",
    "**loan_amount**\n",
    "\n",
    "Within the business model there is no explicit upper limit to how much a borrower can request. There is a minimum limit of 25 USD, and this is the minimum value we see in this column."
   ]
  },
  {
   "cell_type": "code",
   "execution_count": 52,
   "id": "5d14bdae",
   "metadata": {},
   "outputs": [
    {
     "data": {
      "text/html": [
       "<div>\n",
       "<style scoped>\n",
       "    .dataframe tbody tr th:only-of-type {\n",
       "        vertical-align: middle;\n",
       "    }\n",
       "\n",
       "    .dataframe tbody tr th {\n",
       "        vertical-align: top;\n",
       "    }\n",
       "\n",
       "    .dataframe thead th {\n",
       "        text-align: right;\n",
       "    }\n",
       "</style>\n",
       "<table border=\"1\" class=\"dataframe\">\n",
       "  <thead>\n",
       "    <tr style=\"text-align: right;\">\n",
       "      <th></th>\n",
       "      <th>loan_amount</th>\n",
       "    </tr>\n",
       "  </thead>\n",
       "  <tbody>\n",
       "    <tr>\n",
       "      <th>count</th>\n",
       "      <td>645625.000000</td>\n",
       "    </tr>\n",
       "    <tr>\n",
       "      <th>mean</th>\n",
       "      <td>867.463427</td>\n",
       "    </tr>\n",
       "    <tr>\n",
       "      <th>std</th>\n",
       "      <td>1214.922030</td>\n",
       "    </tr>\n",
       "    <tr>\n",
       "      <th>min</th>\n",
       "      <td>25.000000</td>\n",
       "    </tr>\n",
       "    <tr>\n",
       "      <th>25%</th>\n",
       "      <td>275.000000</td>\n",
       "    </tr>\n",
       "    <tr>\n",
       "      <th>50%</th>\n",
       "      <td>500.000000</td>\n",
       "    </tr>\n",
       "    <tr>\n",
       "      <th>75%</th>\n",
       "      <td>1000.000000</td>\n",
       "    </tr>\n",
       "    <tr>\n",
       "      <th>max</th>\n",
       "      <td>100000.000000</td>\n",
       "    </tr>\n",
       "  </tbody>\n",
       "</table>\n",
       "</div>"
      ],
      "text/plain": [
       "         loan_amount\n",
       "count  645625.000000\n",
       "mean      867.463427\n",
       "std      1214.922030\n",
       "min        25.000000\n",
       "25%       275.000000\n",
       "50%       500.000000\n",
       "75%      1000.000000\n",
       "max    100000.000000"
      ]
     },
     "execution_count": 52,
     "metadata": {},
     "output_type": "execute_result"
    }
   ],
   "source": [
    "df_fix_missing_values.loc[:,['loan_amount']].describe()"
   ]
  },
  {
   "cell_type": "markdown",
   "id": "3d3df869",
   "metadata": {},
   "source": [
    "**term_in_months**\n",
    "\n",
    "Within the business model there is no explicit upper limit. The minimum value of one fits, as a time interval is required to pay the money out within."
   ]
  },
  {
   "cell_type": "code",
   "execution_count": 53,
   "id": "35d42eea",
   "metadata": {},
   "outputs": [
    {
     "data": {
      "text/html": [
       "<div>\n",
       "<style scoped>\n",
       "    .dataframe tbody tr th:only-of-type {\n",
       "        vertical-align: middle;\n",
       "    }\n",
       "\n",
       "    .dataframe tbody tr th {\n",
       "        vertical-align: top;\n",
       "    }\n",
       "\n",
       "    .dataframe thead th {\n",
       "        text-align: right;\n",
       "    }\n",
       "</style>\n",
       "<table border=\"1\" class=\"dataframe\">\n",
       "  <thead>\n",
       "    <tr style=\"text-align: right;\">\n",
       "      <th></th>\n",
       "      <th>term_in_months</th>\n",
       "    </tr>\n",
       "  </thead>\n",
       "  <tbody>\n",
       "    <tr>\n",
       "      <th>count</th>\n",
       "      <td>645625.000000</td>\n",
       "    </tr>\n",
       "    <tr>\n",
       "      <th>mean</th>\n",
       "      <td>13.721730</td>\n",
       "    </tr>\n",
       "    <tr>\n",
       "      <th>std</th>\n",
       "      <td>8.477884</td>\n",
       "    </tr>\n",
       "    <tr>\n",
       "      <th>min</th>\n",
       "      <td>1.000000</td>\n",
       "    </tr>\n",
       "    <tr>\n",
       "      <th>25%</th>\n",
       "      <td>8.000000</td>\n",
       "    </tr>\n",
       "    <tr>\n",
       "      <th>50%</th>\n",
       "      <td>13.000000</td>\n",
       "    </tr>\n",
       "    <tr>\n",
       "      <th>75%</th>\n",
       "      <td>14.000000</td>\n",
       "    </tr>\n",
       "    <tr>\n",
       "      <th>max</th>\n",
       "      <td>158.000000</td>\n",
       "    </tr>\n",
       "  </tbody>\n",
       "</table>\n",
       "</div>"
      ],
      "text/plain": [
       "       term_in_months\n",
       "count   645625.000000\n",
       "mean        13.721730\n",
       "std          8.477884\n",
       "min          1.000000\n",
       "25%          8.000000\n",
       "50%         13.000000\n",
       "75%         14.000000\n",
       "max        158.000000"
      ]
     },
     "execution_count": 53,
     "metadata": {},
     "output_type": "execute_result"
    }
   ],
   "source": [
    "df_fix_missing_values.loc[:,['term_in_months']].describe()"
   ]
  },
  {
   "cell_type": "markdown",
   "id": "334804e4",
   "metadata": {},
   "source": [
    "**lender_count**\n",
    "\n",
    "Within the business model there is no explicit upper limit for how many investors can be involved in funding a loan. The minimum lender should not be lower than zero as this would be a business bug. All values are within this range."
   ]
  },
  {
   "cell_type": "code",
   "execution_count": 54,
   "id": "d4fee363",
   "metadata": {},
   "outputs": [
    {
     "data": {
      "text/html": [
       "<div>\n",
       "<style scoped>\n",
       "    .dataframe tbody tr th:only-of-type {\n",
       "        vertical-align: middle;\n",
       "    }\n",
       "\n",
       "    .dataframe tbody tr th {\n",
       "        vertical-align: top;\n",
       "    }\n",
       "\n",
       "    .dataframe thead th {\n",
       "        text-align: right;\n",
       "    }\n",
       "</style>\n",
       "<table border=\"1\" class=\"dataframe\">\n",
       "  <thead>\n",
       "    <tr style=\"text-align: right;\">\n",
       "      <th></th>\n",
       "      <th>lender_count</th>\n",
       "    </tr>\n",
       "  </thead>\n",
       "  <tbody>\n",
       "    <tr>\n",
       "      <th>count</th>\n",
       "      <td>645625.000000</td>\n",
       "    </tr>\n",
       "    <tr>\n",
       "      <th>mean</th>\n",
       "      <td>21.136911</td>\n",
       "    </tr>\n",
       "    <tr>\n",
       "      <th>std</th>\n",
       "      <td>28.856818</td>\n",
       "    </tr>\n",
       "    <tr>\n",
       "      <th>min</th>\n",
       "      <td>0.000000</td>\n",
       "    </tr>\n",
       "    <tr>\n",
       "      <th>25%</th>\n",
       "      <td>7.000000</td>\n",
       "    </tr>\n",
       "    <tr>\n",
       "      <th>50%</th>\n",
       "      <td>13.000000</td>\n",
       "    </tr>\n",
       "    <tr>\n",
       "      <th>75%</th>\n",
       "      <td>25.000000</td>\n",
       "    </tr>\n",
       "    <tr>\n",
       "      <th>max</th>\n",
       "      <td>2986.000000</td>\n",
       "    </tr>\n",
       "  </tbody>\n",
       "</table>\n",
       "</div>"
      ],
      "text/plain": [
       "        lender_count\n",
       "count  645625.000000\n",
       "mean       21.136911\n",
       "std        28.856818\n",
       "min         0.000000\n",
       "25%         7.000000\n",
       "50%        13.000000\n",
       "75%        25.000000\n",
       "max      2986.000000"
      ]
     },
     "execution_count": 54,
     "metadata": {},
     "output_type": "execute_result"
    }
   ],
   "source": [
    "df_fix_missing_values.loc[:,['lender_count']].describe()"
   ]
  },
  {
   "cell_type": "markdown",
   "id": "851f1e68",
   "metadata": {},
   "source": [
    "**x_borrower_count columns**\n",
    "\n",
    "Within the business model there is no explicit upper limit for how many people are associated with a loan. At least one borrower is required to be associated with a loan, which is fulfilled across all loans. "
   ]
  },
  {
   "cell_type": "code",
   "execution_count": 55,
   "id": "b98253db",
   "metadata": {},
   "outputs": [
    {
     "data": {
      "text/html": [
       "<div>\n",
       "<style scoped>\n",
       "    .dataframe tbody tr th:only-of-type {\n",
       "        vertical-align: middle;\n",
       "    }\n",
       "\n",
       "    .dataframe tbody tr th {\n",
       "        vertical-align: top;\n",
       "    }\n",
       "\n",
       "    .dataframe thead th {\n",
       "        text-align: right;\n",
       "    }\n",
       "</style>\n",
       "<table border=\"1\" class=\"dataframe\">\n",
       "  <thead>\n",
       "    <tr style=\"text-align: right;\">\n",
       "      <th></th>\n",
       "      <th>male_borrower_count</th>\n",
       "      <th>female_borrower_count</th>\n",
       "      <th>total_borrower_count</th>\n",
       "    </tr>\n",
       "  </thead>\n",
       "  <tbody>\n",
       "    <tr>\n",
       "      <th>count</th>\n",
       "      <td>645625.000000</td>\n",
       "      <td>645625.000000</td>\n",
       "      <td>645625.000000</td>\n",
       "    </tr>\n",
       "    <tr>\n",
       "      <th>mean</th>\n",
       "      <td>0.413226</td>\n",
       "      <td>1.610031</td>\n",
       "      <td>2.023257</td>\n",
       "    </tr>\n",
       "    <tr>\n",
       "      <th>std</th>\n",
       "      <td>1.133255</td>\n",
       "      <td>3.079665</td>\n",
       "      <td>3.461317</td>\n",
       "    </tr>\n",
       "    <tr>\n",
       "      <th>min</th>\n",
       "      <td>0.000000</td>\n",
       "      <td>0.000000</td>\n",
       "      <td>1.000000</td>\n",
       "    </tr>\n",
       "    <tr>\n",
       "      <th>25%</th>\n",
       "      <td>0.000000</td>\n",
       "      <td>1.000000</td>\n",
       "      <td>1.000000</td>\n",
       "    </tr>\n",
       "    <tr>\n",
       "      <th>50%</th>\n",
       "      <td>0.000000</td>\n",
       "      <td>1.000000</td>\n",
       "      <td>1.000000</td>\n",
       "    </tr>\n",
       "    <tr>\n",
       "      <th>75%</th>\n",
       "      <td>1.000000</td>\n",
       "      <td>1.000000</td>\n",
       "      <td>1.000000</td>\n",
       "    </tr>\n",
       "    <tr>\n",
       "      <th>max</th>\n",
       "      <td>44.000000</td>\n",
       "      <td>50.000000</td>\n",
       "      <td>50.000000</td>\n",
       "    </tr>\n",
       "  </tbody>\n",
       "</table>\n",
       "</div>"
      ],
      "text/plain": [
       "       male_borrower_count  female_borrower_count  total_borrower_count\n",
       "count        645625.000000          645625.000000         645625.000000\n",
       "mean              0.413226               1.610031              2.023257\n",
       "std               1.133255               3.079665              3.461317\n",
       "min               0.000000               0.000000              1.000000\n",
       "25%               0.000000               1.000000              1.000000\n",
       "50%               0.000000               1.000000              1.000000\n",
       "75%               1.000000               1.000000              1.000000\n",
       "max              44.000000              50.000000             50.000000"
      ]
     },
     "execution_count": 55,
     "metadata": {},
     "output_type": "execute_result"
    }
   ],
   "source": [
    "df_fix_missing_values.loc[:,'male_borrower_count':'total_borrower_count'].describe()"
   ]
  },
  {
   "cell_type": "markdown",
   "id": "d28ff1b7",
   "metadata": {},
   "source": [
    "### KPIs / Features"
   ]
  },
  {
   "cell_type": "code",
   "execution_count": 56,
   "id": "27bdccc0",
   "metadata": {},
   "outputs": [],
   "source": [
    "df_kpis = df_fix_missing_values\n",
    "\n",
    "# %_loan_funded = funded_amount / loan_amount \n",
    "df_kpis['%_loan_funded'] = df_kpis['funded_amount']/df_kpis['loan_amount']\n",
    "\n",
    "# funding per lender = funding_amount / lender_count \n",
    "df_kpis['funding_per_lender'] = df_kpis['funded_amount']/df_kpis['lender_count']\n",
    "\n",
    "# loan_term_per_month = loan_amount / term_in_months \n",
    "df_kpis['loan_term_per_month'] = df_kpis['loan_amount']/df_kpis['term_in_months']\n",
    "\n",
    "# fund_term_per_month = funded_amount / term_in months \n",
    "df_kpis['fund_term_per_month'] = df_kpis['funded_amount']/df_kpis['term_in_months']\n",
    "\n",
    "# loan_per_borrower = loan_amount / total_borrower_count \n",
    "df_kpis['loan_per_borrower'] = df_kpis['loan_amount']/df_kpis['total_borrower_count']\n",
    "\n",
    "# fund_per_borrower = funded_amount / total_borrower_count \n",
    "df_kpis['fund_per_borrower'] = df_kpis['funded_amount']/df_kpis['total_borrower_count']\n",
    "\n",
    "# m_borrower_% = male_borrower_count / total_borrower_count \n",
    "df_kpis['m_borrower_%'] = df_kpis['male_borrower_count']/df_kpis['total_borrower_count']\n",
    "\n",
    "# f_borrower_% = female_borrower_count / total_borrower_count \n",
    "df_kpis['f_borrower_%'] = df_kpis['female_borrower_count']/df_kpis['total_borrower_count']"
   ]
  },
  {
   "cell_type": "code",
   "execution_count": 57,
   "id": "30f38d1d",
   "metadata": {
    "scrolled": true
   },
   "outputs": [
    {
     "data": {
      "text/html": [
       "<div>\n",
       "<style scoped>\n",
       "    .dataframe tbody tr th:only-of-type {\n",
       "        vertical-align: middle;\n",
       "    }\n",
       "\n",
       "    .dataframe tbody tr th {\n",
       "        vertical-align: top;\n",
       "    }\n",
       "\n",
       "    .dataframe thead th {\n",
       "        text-align: right;\n",
       "    }\n",
       "</style>\n",
       "<table border=\"1\" class=\"dataframe\">\n",
       "  <thead>\n",
       "    <tr style=\"text-align: right;\">\n",
       "      <th></th>\n",
       "      <th>funded_amount</th>\n",
       "      <th>loan_amount</th>\n",
       "      <th>activity</th>\n",
       "      <th>sector</th>\n",
       "      <th>country_code</th>\n",
       "      <th>country</th>\n",
       "      <th>region</th>\n",
       "      <th>currency</th>\n",
       "      <th>term_in_months</th>\n",
       "      <th>lender_count</th>\n",
       "      <th>...</th>\n",
       "      <th>female_borrower_count</th>\n",
       "      <th>total_borrower_count</th>\n",
       "      <th>%_loan_funded</th>\n",
       "      <th>funding_per_lender</th>\n",
       "      <th>loan_term_per_month</th>\n",
       "      <th>fund_term_per_month</th>\n",
       "      <th>loan_per_borrower</th>\n",
       "      <th>fund_per_borrower</th>\n",
       "      <th>m_borrower_%</th>\n",
       "      <th>f_borrower_%</th>\n",
       "    </tr>\n",
       "  </thead>\n",
       "  <tbody>\n",
       "    <tr>\n",
       "      <th>0</th>\n",
       "      <td>300.0</td>\n",
       "      <td>300.0</td>\n",
       "      <td>Fruits &amp; Vegetables</td>\n",
       "      <td>Food</td>\n",
       "      <td>PK</td>\n",
       "      <td>Pakistan</td>\n",
       "      <td>Lahore</td>\n",
       "      <td>PKR</td>\n",
       "      <td>12.0</td>\n",
       "      <td>12</td>\n",
       "      <td>...</td>\n",
       "      <td>1.0</td>\n",
       "      <td>1.0</td>\n",
       "      <td>1.0</td>\n",
       "      <td>25.000000</td>\n",
       "      <td>25.000000</td>\n",
       "      <td>25.000000</td>\n",
       "      <td>300.0</td>\n",
       "      <td>300.0</td>\n",
       "      <td>0.0</td>\n",
       "      <td>1.0</td>\n",
       "    </tr>\n",
       "    <tr>\n",
       "      <th>1</th>\n",
       "      <td>575.0</td>\n",
       "      <td>575.0</td>\n",
       "      <td>Rickshaw</td>\n",
       "      <td>Transportation</td>\n",
       "      <td>PK</td>\n",
       "      <td>Pakistan</td>\n",
       "      <td>Lahore</td>\n",
       "      <td>PKR</td>\n",
       "      <td>11.0</td>\n",
       "      <td>14</td>\n",
       "      <td>...</td>\n",
       "      <td>2.0</td>\n",
       "      <td>2.0</td>\n",
       "      <td>1.0</td>\n",
       "      <td>41.071429</td>\n",
       "      <td>52.272727</td>\n",
       "      <td>52.272727</td>\n",
       "      <td>287.5</td>\n",
       "      <td>287.5</td>\n",
       "      <td>0.0</td>\n",
       "      <td>1.0</td>\n",
       "    </tr>\n",
       "  </tbody>\n",
       "</table>\n",
       "<p>2 rows × 22 columns</p>\n",
       "</div>"
      ],
      "text/plain": [
       "   funded_amount  loan_amount             activity          sector  \\\n",
       "0          300.0        300.0  Fruits & Vegetables            Food   \n",
       "1          575.0        575.0             Rickshaw  Transportation   \n",
       "\n",
       "  country_code   country  region currency  term_in_months  lender_count  ...  \\\n",
       "0           PK  Pakistan  Lahore      PKR            12.0            12  ...   \n",
       "1           PK  Pakistan  Lahore      PKR            11.0            14  ...   \n",
       "\n",
       "  female_borrower_count  total_borrower_count  %_loan_funded  \\\n",
       "0                   1.0                   1.0            1.0   \n",
       "1                   2.0                   2.0            1.0   \n",
       "\n",
       "   funding_per_lender  loan_term_per_month  fund_term_per_month  \\\n",
       "0           25.000000            25.000000            25.000000   \n",
       "1           41.071429            52.272727            52.272727   \n",
       "\n",
       "   loan_per_borrower  fund_per_borrower  m_borrower_%  f_borrower_%  \n",
       "0              300.0              300.0           0.0           1.0  \n",
       "1              287.5              287.5           0.0           1.0  \n",
       "\n",
       "[2 rows x 22 columns]"
      ]
     },
     "execution_count": 57,
     "metadata": {},
     "output_type": "execute_result"
    }
   ],
   "source": [
    "df_kpis.head(2)"
   ]
  },
  {
   "cell_type": "code",
   "execution_count": 58,
   "id": "18a362e2",
   "metadata": {
    "scrolled": true
   },
   "outputs": [
    {
     "data": {
      "text/plain": [
       "funded_amount            0.000000\n",
       "loan_amount              0.000000\n",
       "activity                 0.000000\n",
       "sector                   0.000000\n",
       "country_code             0.000000\n",
       "country                  0.000000\n",
       "region                   0.000000\n",
       "currency                 0.000000\n",
       "term_in_months           0.000000\n",
       "lender_count             0.000000\n",
       "repayment_interval       0.000000\n",
       "male_borrower_count      0.000000\n",
       "female_borrower_count    0.000000\n",
       "total_borrower_count     0.000000\n",
       "%_loan_funded            0.000000\n",
       "funding_per_lender       0.507106\n",
       "loan_term_per_month      0.000000\n",
       "fund_term_per_month      0.000000\n",
       "loan_per_borrower        0.000000\n",
       "fund_per_borrower        0.000000\n",
       "m_borrower_%             0.000000\n",
       "f_borrower_%             0.000000\n",
       "dtype: float64"
      ]
     },
     "execution_count": 58,
     "metadata": {},
     "output_type": "execute_result"
    }
   ],
   "source": [
    "# funding_per_lender returns NaN when we try to divide by zero. Since there are no lenders, updating values to zero\n",
    "df_kpis.isnull().mean()*100"
   ]
  },
  {
   "cell_type": "code",
   "execution_count": 59,
   "id": "7b0ab100",
   "metadata": {},
   "outputs": [
    {
     "data": {
      "text/plain": [
       "0.0"
      ]
     },
     "execution_count": 59,
     "metadata": {},
     "output_type": "execute_result"
    }
   ],
   "source": [
    "df_kpis['funding_per_lender'].replace(np.nan, 0, inplace=True)\n",
    "df_kpis['funding_per_lender'].isnull().mean()*100"
   ]
  },
  {
   "cell_type": "code",
   "execution_count": 60,
   "id": "b8bbd4b9",
   "metadata": {
    "scrolled": true
   },
   "outputs": [
    {
     "data": {
      "text/plain": [
       "funded_amount            0.0\n",
       "loan_amount              0.0\n",
       "activity                 0.0\n",
       "sector                   0.0\n",
       "country_code             0.0\n",
       "country                  0.0\n",
       "region                   0.0\n",
       "currency                 0.0\n",
       "term_in_months           0.0\n",
       "lender_count             0.0\n",
       "repayment_interval       0.0\n",
       "male_borrower_count      0.0\n",
       "female_borrower_count    0.0\n",
       "total_borrower_count     0.0\n",
       "%_loan_funded            0.0\n",
       "funding_per_lender       0.0\n",
       "loan_term_per_month      0.0\n",
       "fund_term_per_month      0.0\n",
       "loan_per_borrower        0.0\n",
       "fund_per_borrower        0.0\n",
       "m_borrower_%             0.0\n",
       "f_borrower_%             0.0\n",
       "dtype: float64"
      ]
     },
     "execution_count": 60,
     "metadata": {},
     "output_type": "execute_result"
    }
   ],
   "source": [
    "# Final check that all missing values have been handled\n",
    "df_kpis.isnull().mean()*100"
   ]
  },
  {
   "cell_type": "markdown",
   "id": "af315a19",
   "metadata": {},
   "source": [
    "### Datatype conversions for space efficiency"
   ]
  },
  {
   "cell_type": "code",
   "execution_count": 61,
   "id": "9fb25887",
   "metadata": {},
   "outputs": [
    {
     "data": {
      "text/plain": [
       "371165988"
      ]
     },
     "execution_count": 61,
     "metadata": {},
     "output_type": "execute_result"
    }
   ],
   "source": [
    "# memory foot before converting datatypes\n",
    "memory_before = df_kpis.memory_usage(deep=True).sum()\n",
    "memory_before"
   ]
  },
  {
   "cell_type": "code",
   "execution_count": 62,
   "id": "1e0f5ac9",
   "metadata": {},
   "outputs": [
    {
     "data": {
      "text/plain": [
       "True"
      ]
     },
     "execution_count": 62,
     "metadata": {},
     "output_type": "execute_result"
    }
   ],
   "source": [
    "# Check whether all floats in funded_amount are round values\n",
    "df_kpis.funded_amount.apply(float.is_integer).all()"
   ]
  },
  {
   "cell_type": "code",
   "execution_count": 63,
   "id": "d7c17270",
   "metadata": {},
   "outputs": [
    {
     "data": {
      "text/plain": [
       "True"
      ]
     },
     "execution_count": 63,
     "metadata": {},
     "output_type": "execute_result"
    }
   ],
   "source": [
    "# Check whether all floats in loan_amount are round values\n",
    "df_kpis.loan_amount.apply(float.is_integer).all()"
   ]
  },
  {
   "cell_type": "code",
   "execution_count": 64,
   "id": "f4950aec",
   "metadata": {},
   "outputs": [
    {
     "data": {
      "text/plain": [
       "True"
      ]
     },
     "execution_count": 64,
     "metadata": {},
     "output_type": "execute_result"
    }
   ],
   "source": [
    "# Check whether all floats in term_in_months are round values\n",
    "df_kpis.term_in_months.apply(float.is_integer).all()"
   ]
  },
  {
   "cell_type": "code",
   "execution_count": 65,
   "id": "1691f1e6",
   "metadata": {},
   "outputs": [],
   "source": [
    "# Float columns that only use whole numbers can be converted into datatype int to save space and not lose information\n",
    "# Object columns that do not contain unique values across all rows can be coverted to datatype category to save space\n",
    "\n",
    "df_kpis = df_kpis.astype(\n",
    "    {'activity':'category', \n",
    "     'sector':'category',\n",
    "     'country_code':'category', \n",
    "     'country':'category',\n",
    "     'region':'category', \n",
    "     'currency':'category',\n",
    "     'repayment_interval':'category',\n",
    "     'funded_amount':'int',\n",
    "     'loan_amount':'int',\n",
    "     'term_in_months':'int',\n",
    "     'male_borrower_count':'int',\n",
    "     'female_borrower_count':'int',\n",
    "     'total_borrower_count':'int',\n",
    "     'lender_count':'int',\n",
    "    }\n",
    ")"
   ]
  },
  {
   "cell_type": "code",
   "execution_count": 66,
   "id": "26740e9e",
   "metadata": {},
   "outputs": [
    {
     "data": {
      "text/plain": [
       "funded_amount               int32\n",
       "loan_amount                 int32\n",
       "activity                 category\n",
       "sector                   category\n",
       "country_code             category\n",
       "country                  category\n",
       "region                   category\n",
       "currency                 category\n",
       "term_in_months              int32\n",
       "lender_count                int32\n",
       "repayment_interval       category\n",
       "male_borrower_count         int32\n",
       "female_borrower_count       int32\n",
       "total_borrower_count        int32\n",
       "%_loan_funded             float64\n",
       "funding_per_lender        float64\n",
       "loan_term_per_month       float64\n",
       "fund_term_per_month       float64\n",
       "loan_per_borrower         float64\n",
       "fund_per_borrower         float64\n",
       "m_borrower_%              float64\n",
       "f_borrower_%              float64\n",
       "dtype: object"
      ]
     },
     "execution_count": 66,
     "metadata": {},
     "output_type": "execute_result"
    }
   ],
   "source": [
    "df_kpis.dtypes"
   ]
  },
  {
   "cell_type": "code",
   "execution_count": 67,
   "id": "e19dcfcd",
   "metadata": {},
   "outputs": [
    {
     "name": "stdout",
     "output_type": "stream",
     "text": [
      "Memory foot print before: 371,165,988\n",
      "Memory foot print after: 66,814,209\n",
      "Total memory foot print reduction: 304,351,779\n",
      "Memory foot print reduction %: 82.00%\n"
     ]
    }
   ],
   "source": [
    "memory_after = df_kpis.memory_usage(deep=True).sum()\n",
    "memory_saved = (1 - (memory_after / memory_before)) * 100\n",
    "print(f'Memory foot print before: {memory_before:,}')\n",
    "print(f'Memory foot print after: {memory_after:,}')\n",
    "print(f'Total memory foot print reduction: {memory_before - memory_after:,}')\n",
    "print(f'Memory foot print reduction %: {memory_saved:.2f}%')"
   ]
  },
  {
   "cell_type": "markdown",
   "id": "0426e362",
   "metadata": {},
   "source": [
    "### Save dataframe for explorative data analysis"
   ]
  },
  {
   "cell_type": "code",
   "execution_count": 69,
   "id": "c00299a2",
   "metadata": {},
   "outputs": [],
   "source": [
    "df_kpis.to_pickle('data_post_processing.pkl')"
   ]
  }
 ],
 "metadata": {
  "kernelspec": {
   "display_name": "Python 3 (ipykernel)",
   "language": "python",
   "name": "python3"
  },
  "language_info": {
   "codemirror_mode": {
    "name": "ipython",
    "version": 3
   },
   "file_extension": ".py",
   "mimetype": "text/x-python",
   "name": "python",
   "nbconvert_exporter": "python",
   "pygments_lexer": "ipython3",
   "version": "3.9.12"
  },
  "toc": {
   "base_numbering": 1,
   "nav_menu": {},
   "number_sections": true,
   "sideBar": true,
   "skip_h1_title": false,
   "title_cell": "Table of Contents",
   "title_sidebar": "Contents",
   "toc_cell": false,
   "toc_position": {
    "height": "calc(100% - 180px)",
    "left": "10px",
    "top": "150px",
    "width": "382px"
   },
   "toc_section_display": true,
   "toc_window_display": false
  }
 },
 "nbformat": 4,
 "nbformat_minor": 5
}
